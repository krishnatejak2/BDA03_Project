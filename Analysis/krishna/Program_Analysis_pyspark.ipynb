{
 "cells": [
  {
   "cell_type": "code",
   "execution_count": 1,
   "metadata": {},
   "outputs": [],
   "source": [
    "from pyspark.sql import SparkSession\n",
    "sparkSession = SparkSession.builder.appName(\"ProgramAnalysis\").getOrCreate()\n",
    "\n",
    "from pyspark.sql import SQLContext\n",
    "sqlContext = SQLContext(sparkSession)"
   ]
  },
  {
   "cell_type": "code",
   "execution_count": 2,
   "metadata": {},
   "outputs": [],
   "source": [
    "# Read from HDFS\n",
    "program = sqlContext.read.parquet('hdfs://172.18.0.2:8020/Project/Data/Program/program.parquet')\n",
    "program.registerTempTable(\"program_table\");\n",
    "\n"
   ]
  },
  {
   "cell_type": "code",
   "execution_count": 20,
   "metadata": {},
   "outputs": [],
   "source": [
    "import pandas as pd\n",
    "import numpy as np\n",
    "import matplotlib.pyplot as plt\n",
    "%matplotlib inline\n",
    "import seaborn as sns"
   ]
  },
  {
   "cell_type": "code",
   "execution_count": 34,
   "metadata": {},
   "outputs": [],
   "source": [
    "#program data where Parent exists\n",
    "program_data=sqlContext.sql(\"\"\"\n",
    "select \n",
    "    PARENT_PROGRAM_ID,\n",
    "    PROGRAM_ID,\n",
    "    MASTER_TITLE,\n",
    "    CATEGORY_ID,\n",
    "    count(distinct PROGRAM_ID) as COUNT,\n",
    "    min(EVENT_DATE) as MIN_DATE,\n",
    "    max(EVENT_DATE) as MAX_DATE\n",
    "from program_table \n",
    "where \n",
    "    EVENT_DATE > '2017-12-31' and \n",
    "    EVENT_DATE < '2019-01-01' and \n",
    "    PARENT_PROGRAM_ID is not null\n",
    "group by \n",
    "    PARENT_PROGRAM_ID,\n",
    "    PROGRAM_ID,\n",
    "    MASTER_TITLE,\n",
    "    CATEGORY_ID\n",
    "order by \n",
    "    5 desc\n",
    "\"\"\")\n",
    "\n",
    "\n"
   ]
  },
  {
   "cell_type": "code",
   "execution_count": 35,
   "metadata": {},
   "outputs": [],
   "source": [
    "#converting all the spark.dataframes to pandas dataframes\n",
    "program_pd=program_data.toPandas()"
   ]
  },
  {
   "cell_type": "code",
   "execution_count": 36,
   "metadata": {},
   "outputs": [
    {
     "data": {
      "text/html": [
       "<div>\n",
       "<style scoped>\n",
       "    .dataframe tbody tr th:only-of-type {\n",
       "        vertical-align: middle;\n",
       "    }\n",
       "\n",
       "    .dataframe tbody tr th {\n",
       "        vertical-align: top;\n",
       "    }\n",
       "\n",
       "    .dataframe thead th {\n",
       "        text-align: right;\n",
       "    }\n",
       "</style>\n",
       "<table border=\"1\" class=\"dataframe\">\n",
       "  <thead>\n",
       "    <tr style=\"text-align: right;\">\n",
       "      <th></th>\n",
       "      <th>PARENT_PROGRAM_ID</th>\n",
       "      <th>PROGRAM_ID</th>\n",
       "      <th>MASTER_TITLE</th>\n",
       "      <th>CATEGORY_ID</th>\n",
       "      <th>COUNT</th>\n",
       "      <th>MIN_DATE</th>\n",
       "      <th>MAX_DATE</th>\n",
       "    </tr>\n",
       "  </thead>\n",
       "  <tbody>\n",
       "    <tr>\n",
       "      <th>0</th>\n",
       "      <td>10051836</td>\n",
       "      <td>3616993</td>\n",
       "      <td>Cámbiame el look</td>\n",
       "      <td>8</td>\n",
       "      <td>1</td>\n",
       "      <td>2018-11-19 21:00:00.000</td>\n",
       "      <td>2018-11-19 21:00:00.000</td>\n",
       "    </tr>\n",
       "    <tr>\n",
       "      <th>1</th>\n",
       "      <td>10149424</td>\n",
       "      <td>276527</td>\n",
       "      <td>Splash and Bubbles</td>\n",
       "      <td>3</td>\n",
       "      <td>1</td>\n",
       "      <td>2018-05-23 10:30:00.000</td>\n",
       "      <td>2018-05-23 10:30:00.000</td>\n",
       "    </tr>\n",
       "    <tr>\n",
       "      <th>2</th>\n",
       "      <td>10716620</td>\n",
       "      <td>10797468</td>\n",
       "      <td>Juste pour rire les Gags - Full Ado</td>\n",
       "      <td>5</td>\n",
       "      <td>1</td>\n",
       "      <td>2018-05-12 22:30:00.000</td>\n",
       "      <td>2018-05-12 22:30:00.000</td>\n",
       "    </tr>\n",
       "    <tr>\n",
       "      <th>3</th>\n",
       "      <td>10793217</td>\n",
       "      <td>1460897</td>\n",
       "      <td>Lucifer</td>\n",
       "      <td>5</td>\n",
       "      <td>1</td>\n",
       "      <td>2018-06-25 21:35:00.000</td>\n",
       "      <td>2018-06-25 21:35:00.000</td>\n",
       "    </tr>\n",
       "    <tr>\n",
       "      <th>4</th>\n",
       "      <td>10958109</td>\n",
       "      <td>1468876</td>\n",
       "      <td>Forged in Fire</td>\n",
       "      <td>5</td>\n",
       "      <td>1</td>\n",
       "      <td>2018-07-03 21:00:00.000</td>\n",
       "      <td>2018-07-03 21:00:00.000</td>\n",
       "    </tr>\n",
       "  </tbody>\n",
       "</table>\n",
       "</div>"
      ],
      "text/plain": [
       "  PARENT_PROGRAM_ID PROGRAM_ID                         MASTER_TITLE  \\\n",
       "0          10051836    3616993                     Cámbiame el look   \n",
       "1          10149424     276527                   Splash and Bubbles   \n",
       "2          10716620   10797468  Juste pour rire les Gags - Full Ado   \n",
       "3          10793217    1460897                              Lucifer   \n",
       "4          10958109    1468876                       Forged in Fire   \n",
       "\n",
       "  CATEGORY_ID  COUNT                 MIN_DATE                 MAX_DATE  \n",
       "0           8      1  2018-11-19 21:00:00.000  2018-11-19 21:00:00.000  \n",
       "1           3      1  2018-05-23 10:30:00.000  2018-05-23 10:30:00.000  \n",
       "2           5      1  2018-05-12 22:30:00.000  2018-05-12 22:30:00.000  \n",
       "3           5      1  2018-06-25 21:35:00.000  2018-06-25 21:35:00.000  \n",
       "4           5      1  2018-07-03 21:00:00.000  2018-07-03 21:00:00.000  "
      ]
     },
     "execution_count": 36,
     "metadata": {},
     "output_type": "execute_result"
    }
   ],
   "source": [
    "program_pd.head()"
   ]
  },
  {
   "cell_type": "code",
   "execution_count": 37,
   "metadata": {},
   "outputs": [
    {
     "data": {
      "text/html": [
       "<div>\n",
       "<style scoped>\n",
       "    .dataframe tbody tr th:only-of-type {\n",
       "        vertical-align: middle;\n",
       "    }\n",
       "\n",
       "    .dataframe tbody tr th {\n",
       "        vertical-align: top;\n",
       "    }\n",
       "\n",
       "    .dataframe thead th {\n",
       "        text-align: right;\n",
       "    }\n",
       "</style>\n",
       "<table border=\"1\" class=\"dataframe\">\n",
       "  <thead>\n",
       "    <tr style=\"text-align: right;\">\n",
       "      <th></th>\n",
       "      <th>PARENT_PROGRAM_ID</th>\n",
       "      <th>PROGRAM_ID</th>\n",
       "      <th>MASTER_TITLE</th>\n",
       "      <th>CATEGORY_ID</th>\n",
       "      <th>COUNT</th>\n",
       "      <th>MIN_DATE</th>\n",
       "      <th>MAX_DATE</th>\n",
       "    </tr>\n",
       "  </thead>\n",
       "  <tbody>\n",
       "  </tbody>\n",
       "</table>\n",
       "</div>"
      ],
      "text/plain": [
       "Empty DataFrame\n",
       "Columns: [PARENT_PROGRAM_ID, PROGRAM_ID, MASTER_TITLE, CATEGORY_ID, COUNT, MIN_DATE, MAX_DATE]\n",
       "Index: []"
      ]
     },
     "execution_count": 37,
     "metadata": {},
     "output_type": "execute_result"
    }
   ],
   "source": [
    "program_pd[program_pd.PARENT_PROGRAM_ID == program_pd.PROGRAM_ID]"
   ]
  },
  {
   "cell_type": "code",
   "execution_count": 30,
   "metadata": {},
   "outputs": [
    {
     "data": {
      "text/plain": [
       "False"
      ]
     },
     "execution_count": 30,
     "metadata": {},
     "output_type": "execute_result"
    }
   ],
   "source": []
  },
  {
   "cell_type": "code",
   "execution_count": null,
   "metadata": {},
   "outputs": [],
   "source": []
  }
 ],
 "metadata": {
  "kernelspec": {
   "display_name": "Python 3",
   "language": "python",
   "name": "python3"
  },
  "language_info": {
   "codemirror_mode": {
    "name": "ipython",
    "version": 3
   },
   "file_extension": ".py",
   "mimetype": "text/x-python",
   "name": "python",
   "nbconvert_exporter": "python",
   "pygments_lexer": "ipython3",
   "version": "3.6.7"
  }
 },
 "nbformat": 4,
 "nbformat_minor": 2
}
