{
 "cells": [
  {
   "cell_type": "code",
   "execution_count": 1,
   "metadata": {},
   "outputs": [
    {
     "data": {
      "text/plain": [
       "Intitializing Scala interpreter ..."
      ]
     },
     "metadata": {},
     "output_type": "display_data"
    },
    {
     "data": {
      "text/plain": [
       "Spark Web UI available at http://sparkly:4040\n",
       "SparkContext available as 'sc' (version = 2.4.0, master = local[*], app id = local-1553191813702)\n",
       "SparkSession available as 'spark'\n"
      ]
     },
     "metadata": {},
     "output_type": "display_data"
    },
    {
     "data": {
      "text/plain": [
       "res0: org.apache.spark.SparkContext = org.apache.spark.SparkContext@726635c5\n"
      ]
     },
     "execution_count": 1,
     "metadata": {},
     "output_type": "execute_result"
    }
   ],
   "source": [
    "sc"
   ]
  },
  {
   "cell_type": "code",
   "execution_count": 47,
   "metadata": {
    "scrolled": false
   },
   "outputs": [
    {
     "name": "stdout",
     "output_type": "stream",
     "text": [
      "root\n",
      " |-- PROGRAM_ID: string (nullable = true)\n",
      " |-- SUBCATEGORY_ID: string (nullable = true)\n",
      " |-- PROGRAM_SOURCE_ID: string (nullable = true)\n",
      " |-- PROGRAM_AIRING_TYPE_ID: string (nullable = true)\n",
      " |-- CATEGORY_ID: string (nullable = true)\n",
      " |-- CAPTION_ID: string (nullable = true)\n",
      " |-- PROGRAM_COLOR_TYPE_ID: string (nullable = true)\n",
      " |-- MASTER_TITLE: string (nullable = true)\n",
      " |-- RELEASE_YEAR: string (nullable = true)\n",
      " |-- EPISODE_TITLE: string (nullable = true)\n",
      " |-- EPISODE_NUMBER: string (nullable = true)\n",
      " |-- STEREO_ENABLED_YN: string (nullable = true)\n",
      " |-- STAR_RATING: string (nullable = true)\n",
      " |-- SERIES_YN: string (nullable = true)\n",
      " |-- RATING_ID_TV_US: string (nullable = true)\n",
      " |-- RATING_ID_MOVIE_US: string (nullable = true)\n",
      " |-- SERIES_MASTER_YN: string (nullable = true)\n",
      " |-- PARENT_PROGRAM_ID: string (nullable = true)\n",
      " |-- RUNTIME: string (nullable = true)\n",
      " |-- HDTV_YN: string (nullable = true)\n",
      " |-- BRACKET_TEXT: string (nullable = true)\n",
      " |-- PART_NUMBER: string (nullable = true)\n",
      " |-- PART_TOTAL: string (nullable = true)\n",
      " |-- ORIGINAL_ADT: string (nullable = true)\n",
      " |-- SUBTITLE: string (nullable = true)\n",
      " |-- EVENT_DATE: string (nullable = true)\n",
      " |-- TAG: string (nullable = true)\n",
      " |-- Cosmo_program_id: string (nullable = true)\n",
      " |-- link_region_id: string (nullable = true)\n",
      " |-- status_code: string (nullable = true)\n",
      " |-- __index_level_0__: long (nullable = true)\n",
      "\n"
     ]
    },
    {
     "data": {
      "text/plain": [
       "Program: org.apache.spark.sql.DataFrame = [PROGRAM_ID: string, SUBCATEGORY_ID: string ... 29 more fields]\n",
       "Program_df: org.apache.spark.sql.DataFrame = [PROGRAM_ID: string, SUBCATEGORY_ID: string ... 29 more fields]\n"
      ]
     },
     "execution_count": 47,
     "metadata": {},
     "output_type": "execute_result"
    }
   ],
   "source": [
    "val Program=spark.read.option(\"header\",\"true\").parquet(\"hdfs://172.18.0.2:8020/Project/Data/Program/program.parquet\")\n",
    "Program.printSchema()\n",
    "\n",
    "Program.createOrReplaceTempView(\"Program_view\")\n",
    "val Program_df = spark.sql(\"\"\"select *\n",
    "                            from Program_view where EVENT_DATE > '2016-12-31' \n",
    "                            \"\"\")\n",
    "// Program_df.show(20)\n"
   ]
  },
  {
   "cell_type": "code",
   "execution_count": 67,
   "metadata": {},
   "outputs": [
    {
     "name": "stdout",
     "output_type": "stream",
     "text": [
      "+----------+--------------------+-----------------+-----------------+\n",
      "|PROGRAM_ID|        MASTER_TITLE|PARENT_PROGRAM_ID|           RT_HRS|\n",
      "+----------+--------------------+-----------------+-----------------+\n",
      "|  28118023|             Pirates|                N|7829.239444444444|\n",
      "|  28144138|Lezioni dall'audi...|                N|7821.910277777778|\n",
      "|  28206174|Lezioni dall'audi...|                N|7821.910277777778|\n",
      "|  28158160|Equitazione: Bree...|                N|7821.709444444445|\n",
      "|  28135499|Perfect Storms - ...|                N|7821.678055555555|\n",
      "|  28157960|Snooker: Torneo i...|                N|7821.653888888889|\n",
      "|  28158050|Snooker: Torneo i...|                N|7821.653888888889|\n",
      "|  28158179|Snooker: Torneo i...|                N|7821.653888888889|\n",
      "|  28157991|Snooker: Torneo i...|                N|7821.653888888889|\n",
      "|  28158068|Snooker: Torneo i...|                N|7821.653888888889|\n",
      "|  28158004|Snooker: Torneo i...|                N|7821.653888888889|\n",
      "|  28210016|              Brasil|                N|7818.879722222222|\n",
      "|  28141452|          Go Jetters|                N|7817.069444444444|\n",
      "|  28141638|          Go Jetters|                N|7817.069444444444|\n",
      "|  28141925|          Go Jetters|                N|7817.069444444444|\n",
      "|  28142378|          Go Jetters|                N|7817.069444444444|\n",
      "|  28141790|          Go Jetters|                N|7817.069444444444|\n",
      "|  28201822|          Go Jetters|                N|7817.069444444444|\n",
      "|  28119301|     La Corée du Sud|                N|7810.872222222222|\n",
      "|  28118362|Course hippique à...|                Y|7810.656111111111|\n",
      "+----------+--------------------+-----------------+-----------------+\n",
      "only showing top 20 rows\n",
      "\n"
     ]
    }
   ],
   "source": [
    "spark.sql(\"\"\"\n",
    "select distinct PROGRAM_ID,MASTER_TITLE,PARENT_PROGRAM_ID, RUNTIME/3600 as RT_HRS from Program_view \n",
    "order by 4 desc\n",
    "\"\"\")\n",
    ".show()"
   ]
  },
  {
   "cell_type": "code",
   "execution_count": 89,
   "metadata": {},
   "outputs": [
    {
     "name": "stdout",
     "output_type": "stream",
     "text": [
      "+-----------------+----+-----+-------------------+\n",
      "|PARENT_PROGRAM_ID|  CT|   CT|                PCT|\n",
      "+-----------------+----+-----+-------------------+\n",
      "|             null|9247|26099|  35.43047626345837|\n",
      "|          1055967| 172|26099| 0.6590290815740066|\n",
      "|          5665213|  73|26099|0.27970420322617723|\n",
      "|          8871523|  69|26099| 0.2643779455151538|\n",
      "|              118|  58|26099|0.22223073680983946|\n",
      "|          1471955|  55|26099| 0.2107360435265719|\n",
      "|         10367492|  54|26099|0.20690447909881604|\n",
      "|          5121861|  53|26099| 0.2030729146710602|\n",
      "|         16387971|  52|26099|0.19924135024330433|\n",
      "|          1568565|  51|26099| 0.1954097858155485|\n",
      "|          4373338|  47|26099|0.18008352810452508|\n",
      "|          4227396|  46|26099|0.17625196367676924|\n",
      "|         12357126|  44|26099|0.16858883482125753|\n",
      "|         12786907|  43|26099|0.16475727039350166|\n",
      "|          7074387|  43|26099|0.16475727039350166|\n",
      "|          7619515|  43|26099|0.16475727039350166|\n",
      "|          4138018|  42|26099|0.16092570596574582|\n",
      "|          8046385|  42|26099|0.16092570596574582|\n",
      "|          2661478|  42|26099|0.16092570596574582|\n",
      "|          4137967|  41|26099|0.15709414153798995|\n",
      "+-----------------+----+-----+-------------------+\n",
      "only showing top 20 rows\n",
      "\n"
     ]
    }
   ],
   "source": [
    "\n",
    "spark.sql(\"\"\"\n",
    "\n",
    "select A.*,B.CT, A.CT*100/B.CT as PCT\n",
    "from\n",
    "(select PARENT_PROGRAM_ID,count(distinct PROGRAM_ID) as CT  from Program_view \n",
    "where \n",
    "EVENT_DATE > '2017-12-31' and \n",
    "EVENT_DATE < '2019-01-01' \n",
    "group by PARENT_PROGRAM_ID) A\n",
    "cross join\n",
    "(select sum(1) as CT  from Program_view where \n",
    "EVENT_DATE > '2017-12-31' and \n",
    "EVENT_DATE < '2019-01-01' ) B\n",
    "\n",
    "order by 2 desc\n",
    "\"\"\")\n",
    ".show()"
   ]
  },
  {
   "cell_type": "code",
   "execution_count": 98,
   "metadata": {},
   "outputs": [
    {
     "name": "stdout",
     "output_type": "stream",
     "text": [
      "+-----------------+--------------------+--------------------+\n",
      "|PARENT_PROGRAM_ID|     min(EVENT_DATE)|     max(EVENT_DATE)|\n",
      "+-----------------+--------------------+--------------------+\n",
      "|             null|2017-12-31 00:00:...|2018-12-31 23:30:...|\n",
      "|          6338370|2018-11-12 22:30:...|2018-12-31 22:30:...|\n",
      "|         11858824|2018-12-13 20:30:...|2018-12-31 21:30:...|\n",
      "|         12573381|2018-12-25 05:00:...|2018-12-31 21:00:...|\n",
      "|          3373867|2018-05-23 12:00:...|2018-12-31 21:00:...|\n",
      "|          4844210|2018-12-31 21:00:...|2018-12-31 21:00:...|\n",
      "|          4785437|2018-12-31 20:30:...|2018-12-31 20:30:...|\n",
      "|         14737806|2018-10-01 11:30:...|2018-12-31 20:30:...|\n",
      "|             2990|2018-12-31 19:00:...|2018-12-31 19:00:...|\n",
      "|         11505825|2018-12-31 19:00:...|2018-12-31 19:00:...|\n",
      "|          6465044|2018-06-07 19:00:...|2018-12-31 19:00:...|\n",
      "|         11201265|2018-12-31 19:00:...|2018-12-31 19:00:...|\n",
      "|           764578|2018-02-06 09:00:...|2018-12-31 18:00:...|\n",
      "|          4467742|2018-12-25 13:34:...|2018-12-31 17:44:...|\n",
      "|          6769296|2018-01-05 08:00:...|2018-12-31 17:00:...|\n",
      "|         12786907|2018-12-03 14:15:...|2018-12-31 14:12:...|\n",
      "|         11038063|2018-12-31 13:00:...|2018-12-31 13:00:...|\n",
      "|          5636382|2018-12-31 13:00:...|2018-12-31 13:00:...|\n",
      "|         13423233|2018-11-04 14:55:...|2018-12-31 12:40:...|\n",
      "|         16529041|2018-12-31 12:30:...|2018-12-31 12:30:...|\n",
      "+-----------------+--------------------+--------------------+\n",
      "only showing top 20 rows\n",
      "\n"
     ]
    }
   ],
   "source": [
    "\n",
    "spark.sql(\"\"\"\n",
    "\n",
    "select PARENT_PROGRAM_ID,min(EVENT_DATE),max(EVENT_DATE)  from Program_view where \n",
    "EVENT_DATE > '2017-12-31' and \n",
    "EVENT_DATE < '2019-01-01'\n",
    "group by PARENT_PROGRAM_ID order by 3 desc\n",
    "\"\"\")\n",
    ".show()"
   ]
  },
  {
   "cell_type": "code",
   "execution_count": 99,
   "metadata": {
    "scrolled": true
   },
   "outputs": [
    {
     "ename": "org.apache.spark.sql.catalyst.parser.ParseException",
     "evalue": "",
     "output_type": "error",
     "traceback": [
      "org.apache.spark.sql.catalyst.parser.ParseException:",
      "mismatched input 'from' expecting <EOF>(line 2, pos 9)",
      "",
      "== SQL ==",
      "",
      "select * from Program_view PG join",
      "---------^^^",
      "(SELECT * from Program_view where EVENT_DATE > '2016-12-31' and PARENT_PROGRAM_ID is not null) PARENT",
      "on PG.",
      "",
      "  at org.apache.spark.sql.catalyst.parser.ParseException.withCommand(ParseDriver.scala:241)",
      "  at org.apache.spark.sql.catalyst.parser.AbstractSqlParser.parse(ParseDriver.scala:117)",
      "  at org.apache.spark.sql.execution.SparkSqlParser.parse(SparkSqlParser.scala:48)",
      "  at org.apache.spark.sql.catalyst.parser.AbstractSqlParser.parsePlan(ParseDriver.scala:69)",
      "  at org.apache.spark.sql.SparkSession.sql(SparkSession.scala:642)",
      "  ... 36 elided",
      ""
     ]
    }
   ],
   "source": [
    "spark.sql(\"\"\"\n",
    "select * from Program_view PG join\n",
    "(SELECT * from Program_view where EVENT_DATE > '2016-12-31' and PARENT_PROGRAM_ID is not null) PARENT\n",
    "\n",
    "\"\"\")\n",
    ".show()\n",
    "\n"
   ]
  },
  {
   "cell_type": "code",
   "execution_count": 15,
   "metadata": {},
   "outputs": [
    {
     "name": "stdout",
     "output_type": "stream",
     "text": [
      "+-----------------+--------------------+----------+--------------+--------------------+\n",
      "|PARENT_PROGRAM_ID|        MASTER_TITLE|PROGRAM_ID|EPISODE_NUMBER|          EVENT_DATE|\n",
      "+-----------------+--------------------+----------+--------------+--------------------+\n",
      "|                0|  Extended Hanoi Duo|  14191204|          null|2017-11-11 08:00:...|\n",
      "|                0|Shabaka Hutchings...|  14191202|          null|2017-11-11 07:00:...|\n",
      "|          1000058|   The Little People|    315052|            27|2018-05-07 06:40:...|\n",
      "|          1000058|   The Little People|    315045|            26|2018-04-30 06:50:...|\n",
      "|          1000058|   The Little People|    315051|            25|2018-04-30 06:40:...|\n",
      "|         10004862|    My Knight and Me|  12678289|          null|2017-06-30 08:10:...|\n",
      "|         10004862|    My Knight and Me|  12276284|          null|2017-05-31 12:31:...|\n",
      "|         10004862|    My Knight and Me|  12276291|          null|2017-05-30 12:31:...|\n",
      "|         10004862|    My Knight and Me|  12276329|          null|2017-05-29 01:40:...|\n",
      "|         10004862|    My Knight and Me|  12276289|          null|2017-05-24 12:31:...|\n",
      "|         10004862|    My Knight and Me|  12276285|          null|2017-05-23 12:31:...|\n",
      "|         10004862|    My Knight and Me|  11039469|           117|2017-01-18 16:00:...|\n",
      "|         10004862|    My Knight and Me|  11039378|           116|2017-01-17 16:00:...|\n",
      "|         10004862|    My Knight and Me|  10708649|           111|2017-01-14 03:30:...|\n",
      "|         10004862|    My Knight and Me|  10915784|           115|2017-01-13 16:00:...|\n",
      "|         10004862|    My Knight and Me|  11545752|           113|2017-01-11 16:00:...|\n",
      "|         10004862|    My Knight and Me|   8831443|           112|2017-01-10 16:00:...|\n",
      "|         10004862|    My Knight and Me|  10909367|      111; 109|2017-01-09 16:00:...|\n",
      "|         10004862|    My Knight and Me|  11000056|           110|2017-01-06 16:00:...|\n",
      "|         10009606|Patriot League Wo...|   8541129|      03172019|2019-03-17 12:00:...|\n",
      "+-----------------+--------------------+----------+--------------+--------------------+\n",
      "only showing top 20 rows\n",
      "\n"
     ]
    }
   ],
   "source": [
    "\n",
    "spark.sql(\"\"\"\n",
    "select \n",
    "PARENT_PROGRAM_ID,MASTER_TITLE,PROGRAM_ID,EPISODE_NUMBER,EVENT_DATE \n",
    "from Program_view \n",
    "where \n",
    "EVENT_DATE > '2016-12-31' and \n",
    "PARENT_PROGRAM_ID is not null \n",
    "order by 1,5 desc\n",
    "\"\"\")\n",
    ".show()"
   ]
  },
  {
   "cell_type": "code",
   "execution_count": 25,
   "metadata": {},
   "outputs": [
    {
     "name": "stdout",
     "output_type": "stream",
     "text": [
      "+-----------------+--------------------+-----------+--------------------------+--------------------+--------------------+\n",
      "|PARENT_PROGRAM_ID|        MASTER_TITLE|CATEGORY_ID|count(DISTINCT PROGRAM_ID)|     min(EVENT_DATE)|     max(EVENT_DATE)|\n",
      "+-----------------+--------------------+-----------+--------------------------+--------------------+--------------------+\n",
      "|          1055967|         Family Feud|          5|                       205|2017-05-04 04:00:...|2019-02-26 04:30:...|\n",
      "|          8871523|Los jóvenes titan...|          3|                       134|2017-04-21 20:30:...|2019-02-04 17:45:...|\n",
      "|          4135805|      Ridiculousness|          5|                       113|2017-01-27 20:00:...|2019-03-20 20:30:...|\n",
      "|          1471955|    Hora de aventura|          3|                       105|2017-08-04 09:00:...|2019-03-12 00:24:...|\n",
      "|          6769296|     Teen Titans Go!|          3|                        99|2017-01-05 15:30:...|2019-03-20 14:00:...|\n",
      "|          4137967|El increíble mund...|          3|                        98|2017-11-11 13:00:...|2019-02-15 09:15:...|\n",
      "|          9067252|Grizzy and the Le...|          3|                        91|2017-02-22 01:00:...|2019-03-18 07:20:...|\n",
      "|          4138018|         Un show más|          3|                        89|2017-11-10 18:37:...|2018-05-11 11:30:...|\n",
      "|          8831869|Impractical Joker...|          5|                        85|2017-01-05 22:30:...|2019-03-13 21:30:...|\n",
      "|          7841337|          Paw Patrol|          3|                        84|2017-01-20 12:00:...|2019-03-15 12:00:...|\n",
      "|          5665213|                Buzz|          8|                        84|2018-04-22 08:30:...|2019-03-20 19:30:...|\n",
      "|          6739820|               Peppa|          3|                        80|2017-01-14 10:49:...|2019-01-13 17:13:...|\n",
      "|          5109506|Star vs. Las fuer...|          3|                        79|2017-12-01 14:00:...|2018-08-26 12:30:...|\n",
      "|         12357126|Live PD: Police P...|          5|                        77|2017-05-19 21:00:...|2019-03-12 19:00:...|\n",
      "|          1778182|Un souper presque...|          8|                        75|2018-05-09 08:30:...|2019-03-22 23:00:...|\n",
      "|          3514167|The Amazing World...|          3|                        72|2017-02-05 13:30:...|2019-03-23 18:30:...|\n",
      "|          2661478|               ES.TV|          5|                        70|2018-08-13 11:30:...|2019-03-08 04:00:...|\n",
      "|         10733290|         Tío Grandpa|          3|                        69|2017-11-10 08:15:...|2018-04-21 05:12:...|\n",
      "|          4227396|             Snapped|          5|                        68|2017-10-01 18:00:...|2019-03-17 18:00:...|\n",
      "|         13199628|        Escandalosos|          3|                        66|2017-03-13 17:00:...|2019-02-06 13:45:...|\n",
      "+-----------------+--------------------+-----------+--------------------------+--------------------+--------------------+\n",
      "only showing top 20 rows\n",
      "\n"
     ]
    },
    {
     "data": {
      "text/plain": [
       "program_data: org.apache.spark.sql.DataFrame = [PARENT_PROGRAM_ID: string, MASTER_TITLE: string ... 4 more fields]\n"
      ]
     },
     "execution_count": 25,
     "metadata": {},
     "output_type": "execute_result"
    }
   ],
   "source": [
    "val program_data = spark.sql(\"\"\"\n",
    "select \n",
    "PARENT_PROGRAM_ID,MASTER_TITLE,CATEGORY_ID,count(distinct PROGRAM_ID),min(EVENT_DATE),max(EVENT_DATE)\n",
    "from Program_view \n",
    "where \n",
    "EVENT_DATE > '2016-12-31' and \n",
    "PARENT_PROGRAM_ID is not null \n",
    "group by PARENT_PROGRAM_ID,MASTER_TITLE,CATEGORY_ID\n",
    "order by 4 desc\n",
    "\"\"\")\n",
    "\n",
    "program_data.show()"
   ]
  },
  {
   "cell_type": "code",
   "execution_count": 23,
   "metadata": {},
   "outputs": [
    {
     "ename": "<console>",
     "evalue": "24: error: not found: value libraryDependencies",
     "output_type": "error",
     "traceback": [
      "<console>:24: error: not found: value libraryDependencies",
      "       libraryDependencies += \"org.vegas-viz\" %% \"vegas\" % {vegas-version}",
      "       ^",
      "<console>:24: error: value %% is not a member of String",
      "       libraryDependencies += \"org.vegas-viz\" %% \"vegas\" % {vegas-version}",
      "                                              ^",
      "<console>:24: error: not found: value vegas",
      "       libraryDependencies += \"org.vegas-viz\" %% \"vegas\" % {vegas-version}",
      "                                                            ^",
      "<console>:24: error: not found: value version",
      "       libraryDependencies += \"org.vegas-viz\" %% \"vegas\" % {vegas-version}",
      "                                                                  ^",
      "<console>:26: error: not found: value vegas",
      "       import vegas._",
      "              ^",
      "<console>:27: error: not found: value vegas",
      "       import vegas.render.WindowRenderer._",
      "              ^",
      ""
     ]
    }
   ],
   "source": [
    "libraryDependencies += \"org.vegas-viz\" %% \"vegas\" % {vegas-version}\n",
    "\n",
    "import vegas._\n",
    "import vegas.render.WindowRenderer._\n"
   ]
  },
  {
   "cell_type": "code",
   "execution_count": null,
   "metadata": {},
   "outputs": [],
   "source": [
    "sc.stop()"
   ]
  },
  {
   "cell_type": "code",
   "execution_count": 31,
   "metadata": {},
   "outputs": [
    {
     "data": {
      "text/plain": [
       "res24: String =\n",
       "spark.app.id=local-1553184329763\n",
       "spark.app.name=spylon-kernel\n",
       "spark.driver.host=76f1ec6eb8a7\n",
       "spark.driver.port=39307\n",
       "spark.executor.id=driver\n",
       "spark.master=local[*]\n",
       "spark.rdd.compress=True\n",
       "spark.repl.class.outputDir=/tmp/tmpfum57hck\n",
       "spark.repl.class.uri=spark://76f1ec6eb8a7:39307/classes\n",
       "spark.serializer.objectStreamReset=100\n",
       "spark.submit.deployMode=client\n",
       "spark.ui.showConsoleProgress=true\n"
      ]
     },
     "execution_count": 31,
     "metadata": {},
     "output_type": "execute_result"
    }
   ],
   "source": [
    "sc.getConf.toDebugString"
   ]
  },
  {
   "cell_type": "code",
   "execution_count": null,
   "metadata": {},
   "outputs": [],
   "source": []
  }
 ],
 "metadata": {
  "kernelspec": {
   "display_name": "spylon-kernel",
   "language": "scala",
   "name": "spylon-kernel"
  },
  "language_info": {
   "codemirror_mode": "text/x-scala",
   "file_extension": ".scala",
   "help_links": [
    {
     "text": "MetaKernel Magics",
     "url": "https://github.com/calysto/metakernel/blob/master/metakernel/magics/README.md"
    }
   ],
   "mimetype": "text/x-scala",
   "name": "scala",
   "pygments_lexer": "scala",
   "version": "0.4.1"
  }
 },
 "nbformat": 4,
 "nbformat_minor": 2
}
