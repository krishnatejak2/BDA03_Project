{
 "cells": [
  {
   "cell_type": "code",
   "execution_count": 1,
   "metadata": {},
   "outputs": [],
   "source": [
    "import pandas as pd\n",
    "import seaborn as sn\n",
    "import numpy as np"
   ]
  },
  {
   "cell_type": "code",
   "execution_count": 3,
   "metadata": {},
   "outputs": [],
   "source": [
    "pp_df = pd.read_csv(\"../../Data/Program/CorrectFile2018/parquet/series_viewership_metrics/csv/3/part-00000-9f9953dd-cac6-4da9-ac02-93cecfdb7a40-c000.csv\")"
   ]
  },
  {
   "cell_type": "code",
   "execution_count": 4,
   "metadata": {},
   "outputs": [
    {
     "name": "stdout",
     "output_type": "stream",
     "text": [
      "<class 'pandas.core.frame.DataFrame'>\n",
      "RangeIndex: 9675 entries, 0 to 9674\n",
      "Data columns (total 22 columns):\n",
      "MASTER_TITLE      9675 non-null object\n",
      "EVENT_DATE        9675 non-null object\n",
      "CATEGORY_ID       9675 non-null int64\n",
      "SUBCATEGORY_ID    9565 non-null float64\n",
      "RUNTIME           9675 non-null int64\n",
      "_c5               9675 non-null int64\n",
      "Viewers           9675 non-null int64\n",
      "hour              9675 non-null int64\n",
      "day               9675 non-null int64\n",
      "week_text         9675 non-null object\n",
      "week_encoded      9675 non-null int64\n",
      "month             9675 non-null int64\n",
      "vwp_days          9675 non-null object\n",
      "weekend           9675 non-null int64\n",
      "daypart           9675 non-null object\n",
      "weekOfTheYear     9675 non-null int64\n",
      "EVENT_END_DATE    9675 non-null object\n",
      "airStartDate      9675 non-null object\n",
      "airStartTime      9675 non-null object\n",
      "airEndDate        9675 non-null object\n",
      "airEndTime        9675 non-null object\n",
      "AirYear           9675 non-null int64\n",
      "dtypes: float64(1), int64(11), object(10)\n",
      "memory usage: 1.6+ MB\n"
     ]
    }
   ],
   "source": [
    "pp_df.info()"
   ]
  },
  {
   "cell_type": "code",
   "execution_count": null,
   "metadata": {},
   "outputs": [],
   "source": []
  }
 ],
 "metadata": {
  "kernelspec": {
   "display_name": "Python 3",
   "language": "python",
   "name": "python3"
  },
  "language_info": {
   "codemirror_mode": {
    "name": "ipython",
    "version": 3
   },
   "file_extension": ".py",
   "mimetype": "text/x-python",
   "name": "python",
   "nbconvert_exporter": "python",
   "pygments_lexer": "ipython3",
   "version": "3.6.8"
  }
 },
 "nbformat": 4,
 "nbformat_minor": 2
}
