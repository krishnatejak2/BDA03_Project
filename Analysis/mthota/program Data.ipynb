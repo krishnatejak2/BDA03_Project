{
 "cells": [
  {
   "cell_type": "code",
   "execution_count": 1,
   "metadata": {},
   "outputs": [
    {
     "data": {
      "text/plain": [
       "Intitializing Scala interpreter ..."
      ]
     },
     "metadata": {},
     "output_type": "display_data"
    },
    {
     "data": {
      "text/plain": [
       "Spark Web UI available at http://10.177.230.10:4041\n",
       "SparkContext available as 'sc' (version = 2.3.1, master = local[*], app id = local-1554426554870)\n",
       "SparkSession available as 'spark'\n"
      ]
     },
     "metadata": {},
     "output_type": "display_data"
    },
    {
     "name": "stdout",
     "output_type": "stream",
     "text": [
      "2019-04-05 06:39:20 WARN  SparkContext:66 - Using an existing SparkContext; some configuration may not take effect.\n"
     ]
    },
    {
     "data": {
      "text/plain": [
       "import org.apache.spark.sql.SparkSession\n",
       "import org.apache.spark.sql.types._\n",
       "spark: org.apache.spark.sql.SparkSession = org.apache.spark.sql.SparkSession@4e675257\n"
      ]
     },
     "execution_count": 1,
     "metadata": {},
     "output_type": "execute_result"
    },
    {
     "name": "stdout",
     "output_type": "stream",
     "text": [
      "2019-04-05 07:44:25 WARN  HeartbeatReceiver:66 - Removing executor driver with no recent heartbeats: 1272117 ms exceeds timeout 120000 ms\n",
      "2019-04-05 07:44:25 ERROR TaskSchedulerImpl:70 - Lost an executor driver (already removed): Executor heartbeat timed out after 1272117 ms\n",
      "2019-04-05 07:44:25 WARN  SparkContext:66 - Killing executors is not supported by current scheduler.\n"
     ]
    }
   ],
   "source": [
    "import org.apache.spark.sql.SparkSession\n",
    "import org.apache.spark.sql.types._\n",
    "\n",
    "val spark = SparkSession.builder\n",
    "      .appName(\"dsg_prg\")\n",
    "      .master(\"local[*]\")\n",
    "      .config(\"spark.sql.sources.partitionOverwriteMode\",\"dynamic\")\n",
    "      .enableHiveSupport()\n",
    "      .getOrCreate()"
   ]
  },
  {
   "cell_type": "code",
   "execution_count": 2,
   "metadata": {},
   "outputs": [
    {
     "name": "stdout",
     "output_type": "stream",
     "text": [
      "2019-03-24 16:48:45 WARN  Utils:66 - Truncated the string representation of a plan since it was too large. This behavior can be adjusted by setting 'spark.debug.maxToStringFields' in SparkEnv.conf.\n"
     ]
    },
    {
     "data": {
      "text/plain": [
       "campaign_program: org.apache.spark.sql.DataFrame = [PROGRAM_ID: int, SUBCATEGORY_ID: int ... 29 more fields]\n"
      ]
     },
     "execution_count": 2,
     "metadata": {},
     "output_type": "execute_result"
    }
   ],
   "source": [
    "val campaign_program = spark.read.parquet(\"/Users/mthota/Dropbox/Data/Data/CAMPAIGN_PROGRAM\")\n",
    "campaign_program.createOrReplaceTempView(\"CAMPAIGN_PROGRAM\")"
   ]
  },
  {
   "cell_type": "code",
   "execution_count": 3,
   "metadata": {},
   "outputs": [
    {
     "data": {
      "text/plain": [
       "active_qa: org.apache.spark.sql.DataFrame = [ACTIVE: string]\n"
      ]
     },
     "execution_count": 3,
     "metadata": {},
     "output_type": "execute_result"
    }
   ],
   "source": [
    "val active_qa = spark.read.option(\"header\",\"true\").csv(\"active_devices_qa.csv\")\n"
   ]
  },
  {
   "cell_type": "code",
   "execution_count": 4,
   "metadata": {},
   "outputs": [
    {
     "data": {
      "text/plain": [
       "program: org.apache.spark.sql.DataFrame = [PROGRAM_ID: string, SUBCATEGORY_ID: string ... 28 more fields]\n"
      ]
     },
     "execution_count": 4,
     "metadata": {},
     "output_type": "execute_result"
    }
   ],
   "source": [
    "val program = spark.read.parquet(\"/Users/mthota/Dropbox/Data/Data/Program/Parquet/\")"
   ]
  },
  {
   "cell_type": "code",
   "execution_count": 5,
   "metadata": {},
   "outputs": [
    {
     "name": "stdout",
     "output_type": "stream",
     "text": [
      "root\n",
      " |-- PROGRAM_ID: string (nullable = true)\n",
      " |-- SUBCATEGORY_ID: string (nullable = true)\n",
      " |-- PROGRAM_SOURCE_ID: string (nullable = true)\n",
      " |-- PROGRAM_AIRING_TYPE_ID: string (nullable = true)\n",
      " |-- CATEGORY_ID: string (nullable = true)\n",
      " |-- CAPTION_ID: string (nullable = true)\n",
      " |-- PROGRAM_COLOR_TYPE_ID: string (nullable = true)\n",
      " |-- MASTER_TITLE: string (nullable = true)\n",
      " |-- RELEASE_YEAR: string (nullable = true)\n",
      " |-- EPISODE_TITLE: string (nullable = true)\n",
      " |-- EPISODE_NUMBER: string (nullable = true)\n",
      " |-- STEREO_ENABLED_YN: string (nullable = true)\n",
      " |-- STAR_RATING: string (nullable = true)\n",
      " |-- SERIES_YN: string (nullable = true)\n",
      " |-- RATING_ID_TV_US: string (nullable = true)\n",
      " |-- RATING_ID_MOVIE_US: string (nullable = true)\n",
      " |-- SERIES_MASTER_YN: string (nullable = true)\n",
      " |-- PARENT_PROGRAM_ID: string (nullable = true)\n",
      " |-- RUNTIME: string (nullable = true)\n",
      " |-- HDTV_YN: string (nullable = true)\n",
      " |-- BRACKET_TEXT: string (nullable = true)\n",
      " |-- PART_NUMBER: string (nullable = true)\n",
      " |-- PART_TOTAL: string (nullable = true)\n",
      " |-- ORIGINAL_ADT: string (nullable = true)\n",
      " |-- SUBTITLE: string (nullable = true)\n",
      " |-- EVENT_DATE: string (nullable = true)\n",
      " |-- TAG: string (nullable = true)\n",
      " |-- Cosmo_program_id: string (nullable = true)\n",
      " |-- link_region_id: string (nullable = true)\n",
      " |-- status_code: string (nullable = true)\n",
      "\n"
     ]
    }
   ],
   "source": [
    "program.printSchema\n"
   ]
  },
  {
   "cell_type": "code",
   "execution_count": 6,
   "metadata": {},
   "outputs": [],
   "source": [
    "program.createOrReplaceTempView(\"PROGRAM\")\n"
   ]
  },
  {
   "cell_type": "code",
   "execution_count": 81,
   "metadata": {},
   "outputs": [
    {
     "ename": "org.apache.spark.sql.AnalysisException",
     "evalue": " expression 'program.`Cosmo_program_id`' is neither present in the group by, nor is it an aggregate function. Add to group by or wrap in first() (or first_value) if you don't care which value you get.;;",
     "output_type": "error",
     "traceback": [
      "org.apache.spark.sql.AnalysisException: expression 'program.`Cosmo_program_id`' is neither present in the group by, nor is it an aggregate function. Add to group by or wrap in first() (or first_value) if you don't care which value you get.;;",
      "Project [Cosmo_program_id#101, CATEGORY_ID#78, count(1)#1529L]",
      "+- Sort [CATEGORY_ID#78 ASC NULLS FIRST], true",
      "   +- Aggregate [CATEGORY_ID#78], [Cosmo_program_id#101, CATEGORY_ID#78, count(1) AS count(1)#1529L]",
      "      +- SubqueryAlias program",
      "         +- Relation[PROGRAM_ID#74,SUBCATEGORY_ID#75,PROGRAM_SOURCE_ID#76,PROGRAM_AIRING_TYPE_ID#77,CATEGORY_ID#78,CAPTION_ID#79,PROGRAM_COLOR_TYPE_ID#80,MASTER_TITLE#81,RELEASE_YEAR#82,EPISODE_TITLE#83,EPISODE_NUMBER#84,STEREO_ENABLED_YN#85,STAR_RATING#86,SERIES_YN#87,RATING_ID_TV_US#88,RATING_ID_MOVIE_US#89,SERIES_MASTER_YN#90,PARENT_PROGRAM_ID#91,RUNTIME#92,HDTV_YN#93,BRACKET_TEXT#94,PART_NUMBER#95,PART_TOTAL#96,ORIGINAL_ADT#97,... 6 more fields] parquet",
      "",
      "  at org.apache.spark.sql.catalyst.analysis.CheckAnalysis$class.failAnalysis(CheckAnalysis.scala:41)",
      "  at org.apache.spark.sql.catalyst.analysis.Analyzer.failAnalysis(Analyzer.scala:92)",
      "  at org.apache.spark.sql.catalyst.analysis.CheckAnalysis$$anonfun$checkAnalysis$1.org$apache$spark$sql$catalyst$analysis$CheckAnalysis$class$$anonfun$$checkValidAggregateExpression$1(CheckAnalysis.scala:187)",
      "  at org.apache.spark.sql.catalyst.analysis.CheckAnalysis$$anonfun$checkAnalysis$1$$anonfun$apply$9.apply(CheckAnalysis.scala:220)",
      "  at org.apache.spark.sql.catalyst.analysis.CheckAnalysis$$anonfun$checkAnalysis$1$$anonfun$apply$9.apply(CheckAnalysis.scala:220)",
      "  at scala.collection.immutable.List.foreach(List.scala:381)",
      "  at org.apache.spark.sql.catalyst.analysis.CheckAnalysis$$anonfun$checkAnalysis$1.apply(CheckAnalysis.scala:220)",
      "  at org.apache.spark.sql.catalyst.analysis.CheckAnalysis$$anonfun$checkAnalysis$1.apply(CheckAnalysis.scala:80)",
      "  at org.apache.spark.sql.catalyst.trees.TreeNode.foreachUp(TreeNode.scala:127)",
      "  at org.apache.spark.sql.catalyst.trees.TreeNode$$anonfun$foreachUp$1.apply(TreeNode.scala:126)",
      "  at org.apache.spark.sql.catalyst.trees.TreeNode$$anonfun$foreachUp$1.apply(TreeNode.scala:126)",
      "  at scala.collection.immutable.List.foreach(List.scala:381)",
      "  at org.apache.spark.sql.catalyst.trees.TreeNode.foreachUp(TreeNode.scala:126)",
      "  at org.apache.spark.sql.catalyst.trees.TreeNode$$anonfun$foreachUp$1.apply(TreeNode.scala:126)",
      "  at org.apache.spark.sql.catalyst.trees.TreeNode$$anonfun$foreachUp$1.apply(TreeNode.scala:126)",
      "  at scala.collection.immutable.List.foreach(List.scala:381)",
      "  at org.apache.spark.sql.catalyst.trees.TreeNode.foreachUp(TreeNode.scala:126)",
      "  at org.apache.spark.sql.catalyst.analysis.CheckAnalysis$class.checkAnalysis(CheckAnalysis.scala:80)",
      "  at org.apache.spark.sql.catalyst.analysis.Analyzer.checkAnalysis(Analyzer.scala:92)",
      "  at org.apache.spark.sql.catalyst.analysis.Analyzer.executeAndCheck(Analyzer.scala:105)",
      "  at org.apache.spark.sql.execution.QueryExecution.analyzed$lzycompute(QueryExecution.scala:57)",
      "  at org.apache.spark.sql.execution.QueryExecution.analyzed(QueryExecution.scala:55)",
      "  at org.apache.spark.sql.execution.QueryExecution.assertAnalyzed(QueryExecution.scala:47)",
      "  at org.apache.spark.sql.Dataset$.ofRows(Dataset.scala:74)",
      "  at org.apache.spark.sql.SparkSession.sql(SparkSession.scala:641)",
      "  ... 38 elided",
      ""
     ]
    }
   ],
   "source": [
    "spark.sql(\"SELECT  CATEGORY_ID,count(*) FROM PROGRAM GROUP BY CATEGORY_ID ORDER BY CATEGORY_ID\").show()"
   ]
  },
  {
   "cell_type": "code",
   "execution_count": 8,
   "metadata": {},
   "outputs": [
    {
     "name": "stdout",
     "output_type": "stream",
     "text": [
      "+--------------+--------+\n",
      "|SUBCATEGORY_ID|count(1)|\n",
      "+--------------+--------+\n",
      "|             1|   17821|\n",
      "|            10|    1457|\n",
      "|            11|   29005|\n",
      "|            12|   67521|\n",
      "|            13|    9530|\n",
      "|            14|   19393|\n",
      "|            15|   46006|\n",
      "|            16|   56934|\n",
      "|            17|   17420|\n",
      "|            19|     638|\n",
      "|             2|    2240|\n",
      "|            20|    1190|\n",
      "|            21|   15011|\n",
      "|            22|    9743|\n",
      "|            23|    3059|\n",
      "|            24|    2877|\n",
      "|            25|    4307|\n",
      "|            26|    1973|\n",
      "|            27|    5132|\n",
      "|            28|   10220|\n",
      "|      28310142|       1|\n",
      "|            29|    3376|\n",
      "|             3|    8738|\n",
      "|            30|     602|\n",
      "|            31|    5603|\n",
      "|            34|     163|\n",
      "|            35|     472|\n",
      "|            36|    7871|\n",
      "|            37|    3845|\n",
      "|            39|      55|\n",
      "|             4|    3087|\n",
      "|            40|    3174|\n",
      "|            41|    1136|\n",
      "|            42|    1050|\n",
      "|            43|    2820|\n",
      "|            44|   27825|\n",
      "|            45|   12731|\n",
      "|            46|      34|\n",
      "|            47|    7433|\n",
      "|            48|    2945|\n",
      "|            49|    3071|\n",
      "|            50|    1500|\n",
      "|            51|   11896|\n",
      "|            52|   21651|\n",
      "|            53|    8074|\n",
      "|            54|    9045|\n",
      "|            55|    1148|\n",
      "|            56|     208|\n",
      "|            57|    5380|\n",
      "|            58|     735|\n",
      "|            59|     347|\n",
      "|             6|    8506|\n",
      "|            60|    9276|\n",
      "|            61|     761|\n",
      "|            62|     511|\n",
      "|            63|    1594|\n",
      "|            65|    4693|\n",
      "|            66|      43|\n",
      "|            67|     109|\n",
      "|            69|    1158|\n",
      "|             7|   14519|\n",
      "|            70|    3565|\n",
      "|            71|    1639|\n",
      "|            72|     242|\n",
      "|            73|    1091|\n",
      "|            74|    6192|\n",
      "|            75|   12427|\n",
      "|            76|    3369|\n",
      "|            77|     623|\n",
      "|            78|    1643|\n",
      "|            79|    2805|\n",
      "|             8|    2769|\n",
      "|            80|    3492|\n",
      "|            81|     102|\n",
      "|            82|       1|\n",
      "|            83|    1353|\n",
      "|            84|    6352|\n",
      "|             9|     836|\n",
      "|          NULL|  252579|\n",
      "+--------------+--------+\n",
      "\n"
     ]
    }
   ],
   "source": [
    "spark.sql(\"SELECT  SUBCATEGORY_ID,count(*) FROM PROGRAM GROUP BY SUBCATEGORY_ID ORDER BY SUBCATEGORY_ID\").show(100)"
   ]
  },
  {
   "cell_type": "markdown",
   "metadata": {},
   "source": [
    "## Category : Movies"
   ]
  },
  {
   "cell_type": "code",
   "execution_count": 9,
   "metadata": {},
   "outputs": [
    {
     "name": "stdout",
     "output_type": "stream",
     "text": [
      "+------------------------+\n",
      "|MASTER_TITLE            |\n",
      "+------------------------+\n",
      "|High School High        |\n",
      "|The Crow: City of Angels|\n",
      "|Tin Cup                 |\n",
      "|The Cable Guy           |\n",
      "|The Nutty Professor     |\n",
      "|Twister                 |\n",
      "|The Craft               |\n",
      "|Fargo                   |\n",
      "|The Long Kiss Goodnight |\n",
      "|The Preacher's Wife     |\n",
      "+------------------------+\n",
      "only showing top 10 rows\n",
      "\n"
     ]
    }
   ],
   "source": [
    "\n",
    "spark.sql(\"SELECT MASTER_TITLE FROM PROGRAM where CATEGORY_ID = 1\").show(10,false)"
   ]
  },
  {
   "cell_type": "markdown",
   "metadata": {},
   "source": [
    "## Category : Sports"
   ]
  },
  {
   "cell_type": "code",
   "execution_count": 10,
   "metadata": {},
   "outputs": [
    {
     "name": "stdout",
     "output_type": "stream",
     "text": [
      "+----------------+\n",
      "|MASTER_TITLE    |\n",
      "+----------------+\n",
      "|Pinks: All Out  |\n",
      "|MLB Baseball    |\n",
      "|NHL Hockey      |\n",
      "|NHL Hockey      |\n",
      "|MLB Baseball    |\n",
      "|Super Rugby     |\n",
      "|Fútbol Inglés   |\n",
      "|Fútbol Portugués|\n",
      "|Super Rugby     |\n",
      "|MSG Vault       |\n",
      "+----------------+\n",
      "only showing top 10 rows\n",
      "\n"
     ]
    }
   ],
   "source": [
    "spark.sql(\"SELECT MASTER_TITLE FROM PROGRAM where CATEGORY_ID = 2\").show(10,false)"
   ]
  },
  {
   "cell_type": "markdown",
   "metadata": {},
   "source": [
    "## Category :  Cartoon/Kids"
   ]
  },
  {
   "cell_type": "code",
   "execution_count": 11,
   "metadata": {},
   "outputs": [
    {
     "name": "stdout",
     "output_type": "stream",
     "text": [
      "+-------------------------------+\n",
      "|MASTER_TITLE                   |\n",
      "+-------------------------------+\n",
      "|Pinky and the Brain            |\n",
      "|Children's Day Celebration     |\n",
      "|Baby Looney Tunes              |\n",
      "|The Wild Thornberrys           |\n",
      "|Hey Dude                       |\n",
      "|The Wild Thornberrys           |\n",
      "|The Wild Thornberrys           |\n",
      "|Ben 10                         |\n",
      "|Pinky and the Brain            |\n",
      "|The Mystery Files of Shelby Woo|\n",
      "+-------------------------------+\n",
      "only showing top 10 rows\n",
      "\n"
     ]
    }
   ],
   "source": [
    "spark.sql(\"SELECT MASTER_TITLE FROM PROGRAM where CATEGORY_ID = 3\").show(10,false)"
   ]
  },
  {
   "cell_type": "markdown",
   "metadata": {},
   "source": [
    "## Category : News"
   ]
  },
  {
   "cell_type": "code",
   "execution_count": 12,
   "metadata": {},
   "outputs": [
    {
     "name": "stdout",
     "output_type": "stream",
     "text": [
      "+---------------------------------------+\n",
      "|MASTER_TITLE                           |\n",
      "+---------------------------------------+\n",
      "|NH Outlook                             |\n",
      "|WRAL's 12:30 Report                    |\n",
      "|ETTV CITY NEWS AND EZ NEWS             |\n",
      "|Reportagem especial                    |\n",
      "|NewsChannel 9 Saturday                 |\n",
      "|Mini Programa IFE                      |\n",
      "|Senate Judiciary Committee             |\n",
      "|CW News @ 9                            |\n",
      "|ABC2 News: Good Morning Maryland 5:30AM|\n",
      "|KIMT News 3 at 6:00                    |\n",
      "+---------------------------------------+\n",
      "only showing top 10 rows\n",
      "\n"
     ]
    }
   ],
   "source": [
    "spark.sql(\"SELECT DISTINCT MASTER_TITLE FROM PROGRAM where CATEGORY_ID = 4\").show(10,false)"
   ]
  },
  {
   "cell_type": "markdown",
   "metadata": {},
   "source": [
    "## Category : Lifestyle"
   ]
  },
  {
   "cell_type": "code",
   "execution_count": 13,
   "metadata": {},
   "outputs": [
    {
     "name": "stdout",
     "output_type": "stream",
     "text": [
      "+---------------------------+\n",
      "|MASTER_TITLE               |\n",
      "+---------------------------+\n",
      "|The Hasselhoffs            |\n",
      "|The Lost Tomb of Jesus     |\n",
      "|Top Chef: Las Vegas        |\n",
      "|Skating With the Stars     |\n",
      "|Next Iron Chef: Super Chefs|\n",
      "|The Partridge Family       |\n",
      "|A Todo Gas                 |\n",
      "|BDTV                       |\n",
      "|Movie That Wouldn't Die    |\n",
      "|Sunday Rooster             |\n",
      "+---------------------------+\n",
      "only showing top 10 rows\n",
      "\n"
     ]
    }
   ],
   "source": [
    "spark.sql(\"SELECT DISTINCT MASTER_TITLE FROM PROGRAM where CATEGORY_ID = 5\").show(10,false)"
   ]
  },
  {
   "cell_type": "markdown",
   "metadata": {},
   "source": [
    "## Category : Food "
   ]
  },
  {
   "cell_type": "code",
   "execution_count": 14,
   "metadata": {},
   "outputs": [
    {
     "name": "stdout",
     "output_type": "stream",
     "text": [
      "+-----------------------------+\n",
      "|MASTER_TITLE                 |\n",
      "+-----------------------------+\n",
      "|What America Eats            |\n",
      "|Boy Meets Grill              |\n",
      "|Recipe to Riches             |\n",
      "|Peter Parfait                |\n",
      "|Kitchen Concepts             |\n",
      "|Comment c'est fait           |\n",
      "|Effortless Style by Citiknits|\n",
      "|Ad Factory                   |\n",
      "|The Doctors                  |\n",
      "|Focus on the Force           |\n",
      "+-----------------------------+\n",
      "only showing top 10 rows\n",
      "\n"
     ]
    }
   ],
   "source": [
    "spark.sql(\"SELECT DISTINCT MASTER_TITLE FROM PROGRAM where CATEGORY_ID = 8\").show(10,false)"
   ]
  },
  {
   "cell_type": "markdown",
   "metadata": {},
   "source": [
    "## Category : Music"
   ]
  },
  {
   "cell_type": "code",
   "execution_count": 15,
   "metadata": {},
   "outputs": [
    {
     "name": "stdout",
     "output_type": "stream",
     "text": [
      "+----------------------------------------+\n",
      "|MASTER_TITLE                            |\n",
      "+----------------------------------------+\n",
      "|Pennsylvania Polka                      |\n",
      "|In Performance at the Governor's Mansion|\n",
      "|The Fish                                |\n",
      "|Branson Jubilee                         |\n",
      "|Dolly                                   |\n",
      "|In Performance at the Governor's Mansion|\n",
      "|2010 MTV Video Music Awards             |\n",
      "|Don't Forget the Lyrics!                |\n",
      "|Hoppus on Music                         |\n",
      "|CMA Country Christmas                   |\n",
      "+----------------------------------------+\n",
      "only showing top 10 rows\n",
      "\n"
     ]
    }
   ],
   "source": [
    "spark.sql(\"SELECT  MASTER_TITLE FROM PROGRAM where CATEGORY_ID = 9\").show(10,false)"
   ]
  },
  {
   "cell_type": "markdown",
   "metadata": {},
   "source": [
    "## Category : NULL/null Analysis"
   ]
  },
  {
   "cell_type": "code",
   "execution_count": 16,
   "metadata": {},
   "outputs": [
    {
     "name": "stdout",
     "output_type": "stream",
     "text": [
      "+----------------------------+\n",
      "|master_title                |\n",
      "+----------------------------+\n",
      "|L'un contre l'autre         |\n",
      "|The Young Ones              |\n",
      "|Der Cop                     |\n",
      "|Alcaline                    |\n",
      "|James Martin's Mediterranean|\n",
      "|The City                    |\n",
      "|Aircrash Confidential       |\n",
      "|Wander Over Yonder          |\n",
      "|Crisis                      |\n",
      "|Diplomatie                  |\n",
      "+----------------------------+\n",
      "only showing top 10 rows\n",
      "\n",
      "+----------+--------------+-----------------+----------------------+-----------+----------+---------------------+----------------------+------------+--------------------------------------------------------------------------------+--------------+-----------------+-----------+---------+---------------+------------------+----------------+-----------------+-------+-------+------------+-----------+----------+-----------------------+--------+----------+-------------------------------------------------+----------------+--------------+-----------+\n",
      "|PROGRAM_ID|SUBCATEGORY_ID|PROGRAM_SOURCE_ID|PROGRAM_AIRING_TYPE_ID|CATEGORY_ID|CAPTION_ID|PROGRAM_COLOR_TYPE_ID|MASTER_TITLE          |RELEASE_YEAR|EPISODE_TITLE                                                                   |EPISODE_NUMBER|STEREO_ENABLED_YN|STAR_RATING|SERIES_YN|RATING_ID_TV_US|RATING_ID_MOVIE_US|SERIES_MASTER_YN|PARENT_PROGRAM_ID|RUNTIME|HDTV_YN|BRACKET_TEXT|PART_NUMBER|PART_TOTAL|ORIGINAL_ADT           |SUBTITLE|EVENT_DATE|TAG                                              |Cosmo_program_id|link_region_id|status_code|\n",
      "+----------+--------------+-----------------+----------------------+-----------+----------+---------------------+----------------------+------------+--------------------------------------------------------------------------------+--------------+-----------------+-----------+---------+---------------+------------------+----------------+-----------------+-------+-------+------------+-----------+----------+-----------------------+--------+----------+-------------------------------------------------+----------------+--------------+-----------+\n",
      "|1511840   |54            |6398             |NULL                  |5          |1         |1                    |The Oprah Winfrey Show|2010        |Best of Oprah: Oprah's Farewell Season Premiere With Special Guest John Travolta|09132010      |Y                |NULL       |Y        |13             |NULL              |N               |3513             |3600   |N      |NULL        |NULL       |NULL      |2010-09-13 00:00:00.000|NULL    |NULL      |25th Season Premiere 09132010=12132010 = 05262011|17611695        |3             |2          |\n",
      "|1511842   |54            |6398             |NULL                  |5          |1         |1                    |The Oprah Winfrey Show|2010        |Best of Oprah---Exclusive: How Wynonna Judd Survived the Ultimate Betrayal      |09142010      |Y                |NULL       |Y        |13             |NULL              |N               |3513             |3600   |N      |NULL        |NULL       |NULL      |2010-09-14 00:00:00.000|NULL    |NULL      |09142010=12082010=06072011                       |17611697        |3             |2          |\n",
      "|1511845   |54            |6398             |NULL                  |5          |1         |1                    |Oprah Winfrey         |2010        |NULL                                                                            |09162010      |Y                |NULL       |Y        |13             |NULL              |N               |3513             |3600   |N      |NULL        |NULL       |NULL      |2010-09-16 00:00:00.000|NULL    |NULL      |NULL                                             |NULL            |3             |2          |\n",
      "|1511846   |54            |6398             |NULL                  |5          |1         |1                    |Oprah Winfrey         |2010        |NULL                                                                            |09172010      |Y                |NULL       |Y        |13             |NULL              |N               |3513             |3600   |N      |NULL        |NULL       |NULL      |2010-09-17 00:00:00.000|NULL    |NULL      |NULL                                             |NULL            |3             |2          |\n",
      "|1903590   |54            |6398             |NULL                  |5          |1         |1                    |The Oprah Winfrey Show|2010        |\"Waiting for Superman\": The Movement That Could Revolutionize America's Schools |09202010      |Y                |NULL       |Y        |13             |NULL              |N               |3513             |3600   |N      |NULL        |NULL       |NULL      |2010-09-20 00:00:00.000|NULL    |NULL      |NULL                                             |17999322        |3             |2          |\n",
      "|1903615   |54            |6398             |NULL                  |5          |1         |1                    |The Oprah Winfrey Show|2010        |\"The Daily Show's\" Jon Stewart & Living Legend Liza Minnelli                    |09212010      |Y                |NULL       |Y        |13             |NULL              |N               |3513             |3600   |N      |NULL        |NULL       |NULL      |2010-09-21 00:00:00.000|NULL    |NULL      |NULL                                             |17999347        |3             |2          |\n",
      "|1903643   |54            |6398             |NULL                  |5          |1         |1                    |The Oprah Winfrey Show|2010        |Exclusive: The Bravest Mom in the World Set Free: Ingrid Betancourt             |09222010      |Y                |NULL       |Y        |13             |NULL              |N               |3513             |3600   |N      |NULL        |NULL       |NULL      |2010-09-22 00:00:00.000|NULL    |NULL      |NULL                                             |17999374        |3             |2          |\n",
      "|1903680   |54            |6398             |NULL                  |5          |1         |1                    |Oprah Winfrey         |2010        |NULL                                                                            |09242010      |Y                |NULL       |Y        |13             |NULL              |N               |3513             |3600   |N      |NULL        |NULL       |NULL      |2010-09-24 00:00:00.000|NULL    |NULL      |NULL                                             |NULL            |3             |2          |\n",
      "|4129807   |54            |6398             |NULL                  |5          |1         |1                    |The Oprah Winfrey Show|2004        |The Funniest People in America                                                  |NULL          |N                |NULL       |Y        |13             |NULL              |N               |3513             |3600   |N      |NULL        |NULL       |NULL      |NULL                   |NULL    |NULL      |04152004                                         |NULL            |3             |2          |\n",
      "|10862241  |54            |6398             |NULL                  |5          |1         |1                    |The Oprah Winfrey Show|2009        |Exclusive: Elizabeth Edwards' First Interview                                   |05072009      |N                |NULL       |Y        |13             |NULL              |N               |3513             |3600   |N      |NULL        |NULL       |NULL      |2009-05-07 00:00:00.000|NULL    |NULL      |NULL                                             |NULL            |3             |2          |\n",
      "+----------+--------------+-----------------+----------------------+-----------+----------+---------------------+----------------------+------------+--------------------------------------------------------------------------------+--------------+-----------------+-----------+---------+---------------+------------------+----------------+-----------------+-------+-------+------------+-----------+----------+-----------------------+--------+----------+-------------------------------------------------+----------------+--------------+-----------+\n",
      "only showing top 10 rows\n",
      "\n"
     ]
    }
   ],
   "source": [
    "// old data - dates spanning between 1956 t0 2007 \n",
    "// discard candiates - 1\n",
    "spark.sql(\"SELECT  distinct master_title FROM PROGRAM where CATEGORY_ID = 'NULL'\").show(10,false)\n",
    "spark.sql(\"SELECT  * FROM PROGRAM where PARENT_PROGRAM_ID = 3513\").show(10,false)"
   ]
  },
  {
   "cell_type": "code",
   "execution_count": 17,
   "metadata": {},
   "outputs": [
    {
     "name": "stdout",
     "output_type": "stream",
     "text": [
      "+-----------+--------------+--------+\n",
      "|CATEGORY_ID|SUBCATEGORY_ID|count(1)|\n",
      "+-----------+--------------+--------+\n",
      "|          5|            12|   50564|\n",
      "|          5|            15|   40943|\n",
      "|          5|            16|   32520|\n",
      "|          3|            11|   29001|\n",
      "|          5|            44|   26762|\n",
      "|          1|            16|   23963|\n",
      "|          5|          NULL|   18807|\n",
      "|          5|            52|   17693|\n",
      "|          5|            14|   15933|\n",
      "|          8|            21|   15007|\n",
      "|          1|            12|   14753|\n",
      "|          2|             7|   14517|\n",
      "|          5|            45|   12411|\n",
      "|          4|            75|   11986|\n",
      "|          2|            51|   11893|\n",
      "|          3|            17|   10529|\n",
      "|          8|            28|   10218|\n",
      "|          2|            22|    9742|\n",
      "|          2|             6|    8506|\n",
      "|          2|            53|    8047|\n",
      "+-----------+--------------+--------+\n",
      "only showing top 20 rows\n",
      "\n"
     ]
    },
    {
     "data": {
      "text/plain": [
       "cat_df: org.apache.spark.sql.DataFrame = [CATEGORY_ID: string, SUBCATEGORY_ID: string ... 1 more field]\n"
      ]
     },
     "execution_count": 17,
     "metadata": {},
     "output_type": "execute_result"
    }
   ],
   "source": [
    "val cat_df = spark.sql(\"SELECT CATEGORY_ID,SUBCATEGORY_ID ,COUNT(*) FROM PROGRAM WHERE CATEGORY_ID !='NULL' GROUP BY CATEGORY_ID,SUBCATEGORY_ID ORDER BY 3 DESC \")\n",
    "cat_df.show()"
   ]
  },
  {
   "cell_type": "code",
   "execution_count": 18,
   "metadata": {},
   "outputs": [
    {
     "name": "stdout",
     "output_type": "stream",
     "text": [
      "+----------------+------------------+----------+------------+-----------------+--------------+-------+\n",
      "|master_title    |episode_title     |event_date|original_adt|PARENT_PROGRAM_ID|SUBCATEGORY_ID|RUNTIME|\n",
      "+----------------+------------------+----------+------------+-----------------+--------------+-------+\n",
      "|Gimme           | Gimme            |NULL      |3254854     |NULL             |NULL          |NULL   |\n",
      "|Riverboat       |Gäste: Lars Ruppel|NULL      |15381289    |NULL             |NULL          |NULL   |\n",
      "|Cats 101        |Turkish Van       |NULL      |9201639     |NULL             |NULL          |NULL   |\n",
      "|Schweiz von oben|SZ                |NULL      |N           |NULL             |NULL          |NULL   |\n",
      "+----------------+------------------+----------+------------+-----------------+--------------+-------+\n",
      "\n"
     ]
    }
   ],
   "source": [
    "// data imputation for airdate?\n",
    "spark.sql(\"SELECT  distinct master_title,episode_title,event_date,original_adt,PARENT_PROGRAM_ID,SUBCATEGORY_ID,RUNTIME FROM PROGRAM where CATEGORY_ID = 'NULL' AND ORIGINAL_ADT != 'NULL' and master_title != 'INVALID'\").show(10,false)"
   ]
  },
  {
   "cell_type": "code",
   "execution_count": 19,
   "metadata": {},
   "outputs": [
    {
     "name": "stdout",
     "output_type": "stream",
     "text": [
      "+--------+\n",
      "|count(1)|\n",
      "+--------+\n",
      "|226502  |\n",
      "+--------+\n",
      "\n",
      "+--------+\n",
      "|count(1)|\n",
      "+--------+\n",
      "|226501  |\n",
      "+--------+\n",
      "\n",
      "+--------+\n",
      "|count(1)|\n",
      "+--------+\n",
      "|591345  |\n",
      "+--------+\n",
      "\n",
      "+--------+\n",
      "|count(1)|\n",
      "+--------+\n",
      "|468298  |\n",
      "+--------+\n",
      "\n"
     ]
    }
   ],
   "source": [
    "spark.sql(\"SELECT  count(*) FROM PROGRAM where CATEGORY_ID = 'NULL' and master_title != 'INVALID' \").show(100,false)\n",
    "\n",
    "spark.sql(\"SELECT  DISTINCT COUNT(*) FROM PROGRAM where CATEGORY_ID = 'NULL' and master_title != 'INVALID' AND EVENT_DATE='NULL' \").show(10,false)\n",
    "// DELETE INVALID DATA?\n",
    "\n",
    "spark.sql(\"SELECT  COUNT(*) FROM PROGRAM where CATEGORY_ID != 'NULL'\").show(10,false)\n",
    "\n",
    "spark.sql(\"SELECT  COUNT(*) FROM PROGRAM where CATEGORY_ID != 'NULL'  AND (EVENT_DATE != 'NULL' OR ORIGINAL_ADT  !='NULL' OR RELEASE_YEAR !='NULL')\").show(10,false)"
   ]
  },
  {
   "cell_type": "code",
   "execution_count": 20,
   "metadata": {},
   "outputs": [
    {
     "name": "stdout",
     "output_type": "stream",
     "text": [
      "+----------+---+\n",
      "|PROGRAM_ID|dsc|\n",
      "+----------+---+\n",
      "|14273282  |2  |\n",
      "|7883020   |2  |\n",
      "|11541001  |2  |\n",
      "|7395241   |2  |\n",
      "|16360008  |2  |\n",
      "|7820566   |2  |\n",
      "|13225445  |2  |\n",
      "|5254912   |2  |\n",
      "|8110191   |2  |\n",
      "|15023679  |2  |\n",
      "+----------+---+\n",
      "only showing top 10 rows\n",
      "\n",
      "+--------+\n",
      "|count(1)|\n",
      "+--------+\n",
      "|76      |\n",
      "+--------+\n",
      "\n"
     ]
    }
   ],
   "source": [
    "// A Program Associated with multiple shows?\n",
    "spark.sql(\"SELECT  PROGRAM_ID,count(*) as dsc FROM PROGRAM WHERE ORIGINAL_ADT !=  'NULL' GROUP BY PROGRAM_ID HAVING COUNT(*)>1 order by dsc desc\").show(10,false)\n",
    "spark.sql(\"SELECT COUNT(*) FROM (SELECT  PROGRAM_ID FROM PROGRAM WHERE ORIGINAL_ADT !=  'NULL' GROUP BY PROGRAM_ID HAVING COUNT(*)>1)\").show(100,false)"
   ]
  },
  {
   "cell_type": "code",
   "execution_count": 21,
   "metadata": {},
   "outputs": [
    {
     "name": "stdout",
     "output_type": "stream",
     "text": [
      "+----------+--------------------+--------------------+--------------------+-----------------+-----------+\n",
      "|PROGRAM_ID|        MASTER_TITLE|       EPISODE_TITLE|        ORIGINAL_ADT|PARENT_PROGRAM_ID|STATUS_CODE|\n",
      "+----------+--------------------+--------------------+--------------------+-----------------+-----------+\n",
      "|  14273282|        The Turnpike|                NULL|2010-02-19 02:30:...|             NULL|          2|\n",
      "|  16360008|       Inside Access|                NULL|2010-05-24 14:30:...|             NULL|          2|\n",
      "|   7395241|      Jack Kain Ford|                NULL|2007-12-08 11:30:...|             NULL|          2|\n",
      "|   7395241|The Amazing World...|The Girlfriend; T...|2016-03-30 00:00:...|          3514167|          1|\n",
      "|  16360008|  Xtreme Bass Angler|    Wacky White Worm|2018-03-05 00:00:...|          3804919|          1|\n",
      "|  14273282| First Time Flippers|I Now Pronounce Y...|2017-11-11 00:00:...|         12589475|          1|\n",
      "+----------+--------------------+--------------------+--------------------+-----------------+-----------+\n",
      "\n"
     ]
    }
   ],
   "source": [
    "// How do we interpret this\n",
    "\n",
    "spark.sql(\"SELECT PROGRAM_ID,MASTER_TITLE,EPISODE_TITLE,ORIGINAL_ADT,PARENT_PROGRAM_ID,STATUS_CODE FROM PROGRAM WHERE PROGRAM_ID IN (14273282,16360008,7395241)\").show(10)"
   ]
  },
  {
   "cell_type": "code",
   "execution_count": 43,
   "metadata": {},
   "outputs": [
    {
     "data": {
      "text/plain": [
       "program_df: org.apache.spark.sql.DataFrame = [PROGRAM_ID: string, SUBCATEGORY_ID: string ... 30 more fields]\n"
      ]
     },
     "execution_count": 43,
     "metadata": {},
     "output_type": "execute_result"
    }
   ],
   "source": [
    "var program_df = program.withColumn(\"Year\",year(program.col(\"ORIGINAL_ADT\"))).withColumn(\"Month\",month(program.col(\"ORIGINAL_ADT\")))\n"
   ]
  },
  {
   "cell_type": "code",
   "execution_count": 44,
   "metadata": {},
   "outputs": [
    {
     "name": "stdout",
     "output_type": "stream",
     "text": [
      "root\n",
      " |-- PROGRAM_ID: string (nullable = true)\n",
      " |-- SUBCATEGORY_ID: string (nullable = true)\n",
      " |-- PROGRAM_SOURCE_ID: string (nullable = true)\n",
      " |-- PROGRAM_AIRING_TYPE_ID: string (nullable = true)\n",
      " |-- CATEGORY_ID: string (nullable = true)\n",
      " |-- CAPTION_ID: string (nullable = true)\n",
      " |-- PROGRAM_COLOR_TYPE_ID: string (nullable = true)\n",
      " |-- MASTER_TITLE: string (nullable = true)\n",
      " |-- RELEASE_YEAR: string (nullable = true)\n",
      " |-- EPISODE_TITLE: string (nullable = true)\n",
      " |-- EPISODE_NUMBER: string (nullable = true)\n",
      " |-- STEREO_ENABLED_YN: string (nullable = true)\n",
      " |-- STAR_RATING: string (nullable = true)\n",
      " |-- SERIES_YN: string (nullable = true)\n",
      " |-- RATING_ID_TV_US: string (nullable = true)\n",
      " |-- RATING_ID_MOVIE_US: string (nullable = true)\n",
      " |-- SERIES_MASTER_YN: string (nullable = true)\n",
      " |-- PARENT_PROGRAM_ID: string (nullable = true)\n",
      " |-- RUNTIME: string (nullable = true)\n",
      " |-- HDTV_YN: string (nullable = true)\n",
      " |-- BRACKET_TEXT: string (nullable = true)\n",
      " |-- PART_NUMBER: string (nullable = true)\n",
      " |-- PART_TOTAL: string (nullable = true)\n",
      " |-- ORIGINAL_ADT: string (nullable = true)\n",
      " |-- SUBTITLE: string (nullable = true)\n",
      " |-- EVENT_DATE: string (nullable = true)\n",
      " |-- TAG: string (nullable = true)\n",
      " |-- Cosmo_program_id: string (nullable = true)\n",
      " |-- link_region_id: string (nullable = true)\n",
      " |-- status_code: string (nullable = true)\n",
      " |-- Year: integer (nullable = true)\n",
      " |-- Month: integer (nullable = true)\n",
      "\n"
     ]
    }
   ],
   "source": [
    "program_df.printSchema\n",
    "program_df.createOrReplaceTempView(\"PRG\")"
   ]
  },
  {
   "cell_type": "code",
   "execution_count": 24,
   "metadata": {},
   "outputs": [
    {
     "data": {
      "text/plain": [
       "program_df1: org.apache.spark.sql.DataFrame = [CATEGORY: string, PROGRAM_ID: string ... 30 more fields]\n"
      ]
     },
     "execution_count": 24,
     "metadata": {},
     "output_type": "execute_result"
    }
   ],
   "source": [
    "val program_df1 = spark.sql(\"SELECT CASE CATEGORY_ID WHEN  1 THEN 'MOVIES' WHEN  2 THEN 'SPORTS' WHEN 3 THEN 'KIDS' WHEN 4 THEN 'NEWS' WHEN 5 THEN 'LIFESTYLE' WHEN 8 THEN 'FOOD' WHEN 9 THEN 'MUSIC' ELSE 'UNKNOWN' END as CATEGORY , PRG.* FROM PRG\")\n"
   ]
  },
  {
   "cell_type": "code",
   "execution_count": 25,
   "metadata": {},
   "outputs": [
    {
     "name": "stdout",
     "output_type": "stream",
     "text": [
      "+--------+----+-------------+\n",
      "|CATEGORY|Year|PROGRAM_COUNT|\n",
      "+--------+----+-------------+\n",
      "|    FOOD|2008|         2964|\n",
      "|    FOOD|2009|         3720|\n",
      "|    FOOD|2010|         2449|\n",
      "|    FOOD|2011|          652|\n",
      "|    FOOD|2012|          588|\n",
      "|    FOOD|2013|          542|\n",
      "|    FOOD|2014|          671|\n",
      "|    FOOD|2015|          824|\n",
      "|    FOOD|2016|         1140|\n",
      "|    FOOD|2017|         1705|\n",
      "|    FOOD|2018|         2760|\n",
      "|    FOOD|2019|         1643|\n",
      "|    KIDS|2008|         1792|\n",
      "|    KIDS|2009|         1756|\n",
      "|    KIDS|2010|         1125|\n",
      "|    KIDS|2011|          536|\n",
      "|    KIDS|2012|          449|\n",
      "|    KIDS|2013|          576|\n",
      "|    KIDS|2014|          630|\n",
      "|    KIDS|2015|          965|\n",
      "+--------+----+-------------+\n",
      "only showing top 20 rows\n",
      "\n"
     ]
    },
    {
     "data": {
      "text/plain": [
       "ProgByYrByCateg: org.apache.spark.sql.DataFrame = [CATEGORY: string, Year: int ... 1 more field]\n"
      ]
     },
     "execution_count": 25,
     "metadata": {},
     "output_type": "execute_result"
    }
   ],
   "source": [
    "program_df1.createOrReplaceTempView(\"PRG1\")\n",
    "\n",
    "\n",
    "val ProgByYrByCateg = spark.sql(\"SELECT CATEGORY,Year,COUNT(*) as PROGRAM_COUNT FROM PRG1 WHERE CATEGORY_ID != 'NULL' AND YEAR >= 2008 AND YEAR <= 2019 GROUP BY CATEGORY,Year ORDER BY CATEGORY,YEAR\")\n",
    "ProgByYrByCateg.show()\n",
    "ProgByYrByCateg.repartition(1).write.mode(\"Overwrite\").option(\"header\", true).csv(\"./PlotData/ProgByCategByYear/\")"
   ]
  },
  {
   "cell_type": "code",
   "execution_count": 26,
   "metadata": {},
   "outputs": [
    {
     "name": "stdout",
     "output_type": "stream",
     "text": [
      "+----+-------------+\n",
      "|Year|PROGRAM_COUNT|\n",
      "+----+-------------+\n",
      "|2008|        18524|\n",
      "|2009|        20506|\n",
      "|2010|        13768|\n",
      "|2011|         3983|\n",
      "|2012|         3749|\n",
      "|2013|         4002|\n",
      "|2014|         4449|\n",
      "|2015|         5624|\n",
      "|2016|        11212|\n",
      "|2017|        14249|\n",
      "|2018|        15069|\n",
      "|2019|        13928|\n",
      "+----+-------------+\n",
      "\n"
     ]
    },
    {
     "data": {
      "text/plain": [
       "ProgByYear: org.apache.spark.sql.DataFrame = [Year: int, PROGRAM_COUNT: bigint]\n"
      ]
     },
     "execution_count": 26,
     "metadata": {},
     "output_type": "execute_result"
    }
   ],
   "source": [
    "// Why is there a downtrend in 2011,12 and 13\n",
    "val ProgByYear = spark.sql(\"SELECT Year,COUNT(*) as PROGRAM_COUNT FROM  PRG1 WHERE CATEGORY_ID != 'NULL' AND YEAR >= 2008 AND YEAR <= 2019 GROUP BY YEAR ORDER BY YEAR\")\n",
    "ProgByYear.show()\n",
    "ProgByYear.repartition(1).write.mode(\"Overwrite\").option(\"header\", true).csv(\"./PlotData/ProgByYear\")"
   ]
  },
  {
   "cell_type": "code",
   "execution_count": 27,
   "metadata": {},
   "outputs": [
    {
     "data": {
      "text/plain": [
       "promotedPrograms: org.apache.spark.sql.DataFrame = [CATEGORY: string, PROGRAM_ID: string ... 31 more fields]\n"
      ]
     },
     "execution_count": 27,
     "metadata": {},
     "output_type": "execute_result"
    }
   ],
   "source": [
    "val promotedPrograms = spark.sql(\"SELECT p.*,CASE COALESCE(c.PROGRAM_ID,-9999) WHEN -9999 THEN 0 ELSE 1 END as IS_PROMOTED FROM PRG1 p LEFT JOIN CAMPAIGN_PROGRAM c ON p.PROGRAM_ID = c.PROGRAM_ID\")"
   ]
  },
  {
   "cell_type": "code",
   "execution_count": 28,
   "metadata": {},
   "outputs": [],
   "source": [
    "promotedPrograms.createOrReplaceTempView(\"PROGRAM_VIEW\")"
   ]
  },
  {
   "cell_type": "code",
   "execution_count": 29,
   "metadata": {},
   "outputs": [
    {
     "name": "stdout",
     "output_type": "stream",
     "text": [
      "+-----------+--------+\n",
      "|IS_PROMOTED|count(1)|\n",
      "+-----------+--------+\n",
      "|          1|     757|\n",
      "|          0|  818986|\n",
      "+-----------+--------+\n",
      "\n",
      "+-----------+--------+\n",
      "|IS_PROMOTED|count(1)|\n",
      "+-----------+--------+\n",
      "|          1|     454|\n",
      "|          0|   28572|\n",
      "+-----------+--------+\n",
      "\n"
     ]
    }
   ],
   "source": [
    "spark.sql(\"SELECT IS_PROMOTED,COUNT(*) FROM PROGRAM_VIEW  GROUP BY IS_PROMOTED\").show()\n",
    "\n",
    "spark.sql(\"SELECT IS_PROMOTED,COUNT(*) FROM PROGRAM_VIEW WHERE YEAR > 2017 GROUP BY IS_PROMOTED\").show()"
   ]
  },
  {
   "cell_type": "code",
   "execution_count": 30,
   "metadata": {},
   "outputs": [
    {
     "name": "stdout",
     "output_type": "stream",
     "text": [
      "+---------+----+-------------+\n",
      "| CATEGORY|YEAR|PROGRAM_COUNT|\n",
      "+---------+----+-------------+\n",
      "|     FOOD|2017|            3|\n",
      "|     FOOD|2018|            4|\n",
      "|     FOOD|2019|            1|\n",
      "|     KIDS|2018|            1|\n",
      "|LIFESTYLE|null|           30|\n",
      "|LIFESTYLE|1997|            1|\n",
      "|LIFESTYLE|1998|            3|\n",
      "|LIFESTYLE|1999|            4|\n",
      "|LIFESTYLE|2000|            3|\n",
      "|LIFESTYLE|2001|            2|\n",
      "|LIFESTYLE|2003|            2|\n",
      "|LIFESTYLE|2005|            3|\n",
      "|LIFESTYLE|2006|            1|\n",
      "|LIFESTYLE|2007|            2|\n",
      "|LIFESTYLE|2012|            2|\n",
      "|LIFESTYLE|2013|            9|\n",
      "|LIFESTYLE|2014|            4|\n",
      "|LIFESTYLE|2016|            5|\n",
      "|LIFESTYLE|2017|          155|\n",
      "|LIFESTYLE|2018|          268|\n",
      "+---------+----+-------------+\n",
      "only showing top 20 rows\n",
      "\n"
     ]
    },
    {
     "data": {
      "text/plain": [
       "promotedProgsByYearandCategory: org.apache.spark.sql.DataFrame = [CATEGORY: string, YEAR: int ... 1 more field]\n"
      ]
     },
     "execution_count": 30,
     "metadata": {},
     "output_type": "execute_result"
    }
   ],
   "source": [
    " spark.sql(\"SELECT CATEGORY,YEAR,COUNT(*) as PROGRAM_COUNT FROM PROGRAM_VIEW WHERE IS_PROMOTED = 1 GROUP BY CATEGORY,YEAR ORDER BY CATEGORY,YEAR\").show()\n",
    "val promotedProgsByYearandCategory = spark.sql(\"SELECT CATEGORY,YEAR,COUNT(*) as PROGRAM_COUNT FROM PROGRAM_VIEW WHERE IS_PROMOTED = 1 AND YEAR >= 2008 AND YEAR <= 2018 GROUP BY CATEGORY,YEAR ORDER BY CATEGORY,YEAR\")"
   ]
  },
  {
   "cell_type": "code",
   "execution_count": 31,
   "metadata": {},
   "outputs": [],
   "source": [
    "promotedProgsByYearandCategory.repartition(1).write.mode(\"Overwrite\").option(\"header\", true).csv(\"./PlotData/PromotedProgByCategByYear\")"
   ]
  },
  {
   "cell_type": "code",
   "execution_count": 32,
   "metadata": {},
   "outputs": [
    {
     "name": "stdout",
     "output_type": "stream",
     "text": [
      "+--------------------+---------+-----------------+-------------+\n",
      "|        MASTER_TITLE| CATEGORY|PARENT_PROGRAM_ID|PROGRAM_COUNT|\n",
      "+--------------------+---------+-----------------+-------------+\n",
      "|                null|     null|                N|        36393|\n",
      "|                null|     null|                Y|         1505|\n",
      "|   Plus belle la vie|LIFESTYLE|          4273525|          936|\n",
      "|          Judge Judy|LIFESTYLE|            21985|          913|\n",
      "|Classic College F...|   SPORTS|          1091443|          828|\n",
      "|            Dr. Phil|     FOOD|          3577687|          785|\n",
      "|        The Simpsons|LIFESTYLE|             7903|          655|\n",
      "|         Classic NHL|   SPORTS|           884001|          652|\n",
      "|   Come Dine With Me|     FOOD|         13780714|          637|\n",
      "|          Doctor Who|LIFESTYLE|           595861|          634|\n",
      "|Classic College B...|   SPORTS|          1021601|          621|\n",
      "|                null|     null|                9|          587|\n",
      "|                Cops|LIFESTYLE|            42820|          547|\n",
      "|         Law & Order|LIFESTYLE|          1066879|          453|\n",
      "| Saturday Night Live|LIFESTYLE|           787029|          445|\n",
      "|The Best of The J...|     FOOD|          2077107|          445|\n",
      "|   Death Valley Days|LIFESTYLE|           969676|          443|\n",
      "|      Classic Boxing|   SPORTS|           882232|          435|\n",
      "|   Antiques Roadshow|     FOOD|             9170|          433|\n",
      "|America's Funnies...|LIFESTYLE|            38318|          422|\n",
      "+--------------------+---------+-----------------+-------------+\n",
      "only showing top 20 rows\n",
      "\n"
     ]
    },
    {
     "data": {
      "text/plain": [
       "longRunningSeries: org.apache.spark.sql.DataFrame = [MASTER_TITLE: string, CATEGORY: string ... 2 more fields]\n"
      ]
     },
     "execution_count": 32,
     "metadata": {},
     "output_type": "execute_result"
    }
   ],
   "source": [
    "spark.sql(\"SELECT par.MASTER_TITLE,Par.CATEGORY,Child.PARENT_PROGRAM_ID,COUNT(*) as PROGRAM_COUNT FROM PROGRAM_VIEW Child LEFT JOIN PROGRAM_VIEW Par ON child.PARENT_PROGRAM_ID = Par.PROGRAM_ID WHERE Child.PARENT_PROGRAM_ID != 'NULL' GROUP BY par.MASTER_TITLE,Par.CATEGORY,Child.PARENT_PROGRAM_ID ORDER BY PROGRAM_COUNT DESC\").show()\n",
    "val longRunningSeries = spark.sql(\"SELECT par.MASTER_TITLE,Par.CATEGORY,Child.PARENT_PROGRAM_ID,COUNT(*) as PROGRAM_COUNT FROM PROGRAM_VIEW Child LEFT JOIN PROGRAM_VIEW Par ON child.PARENT_PROGRAM_ID = Par.PROGRAM_ID WHERE ((Child.PARENT_PROGRAM_ID != 'NULL' OR CHILD.PARENT_PROGRAM_ID != 'N' OR CHILD.PARENT_PROGRAM_ID != 'Y') AND Par.MASTER_TITLE !='null') GROUP BY par.MASTER_TITLE,Par.CATEGORY,Child.PARENT_PROGRAM_ID ORDER BY PROGRAM_COUNT DESC\")"
   ]
  },
  {
   "cell_type": "code",
   "execution_count": 33,
   "metadata": {},
   "outputs": [],
   "source": [
    "longRunningSeries.repartition(1).write.mode(\"Overwrite\").option(\"header\", true).csv(\"./PlotData/LongRunningSeries/\")"
   ]
  },
  {
   "cell_type": "code",
   "execution_count": 34,
   "metadata": {},
   "outputs": [
    {
     "name": "stdout",
     "output_type": "stream",
     "text": [
      "+--------------------+---------+-----------------+-------------+\n",
      "|        MASTER_TITLE| CATEGORY|PARENT_PROGRAM_ID|PROGRAM_COUNT|\n",
      "+--------------------+---------+-----------------+-------------+\n",
      "|   Plus belle la vie|LIFESTYLE|          4273525|          936|\n",
      "|          Judge Judy|LIFESTYLE|            21985|          913|\n",
      "|Classic College F...|   SPORTS|          1091443|          828|\n",
      "|            Dr. Phil|     FOOD|          3577687|          785|\n",
      "|        The Simpsons|LIFESTYLE|             7903|          655|\n",
      "|         Classic NHL|   SPORTS|           884001|          652|\n",
      "|   Come Dine With Me|     FOOD|         13780714|          637|\n",
      "|          Doctor Who|LIFESTYLE|           595861|          634|\n",
      "|Classic College B...|   SPORTS|          1021601|          621|\n",
      "|                Cops|LIFESTYLE|            42820|          547|\n",
      "|         Law & Order|LIFESTYLE|          1066879|          453|\n",
      "| Saturday Night Live|LIFESTYLE|           787029|          445|\n",
      "|The Best of The J...|     FOOD|          2077107|          445|\n",
      "|   Death Valley Days|LIFESTYLE|           969676|          443|\n",
      "|      Classic Boxing|   SPORTS|           882232|          435|\n",
      "|   Antiques Roadshow|     FOOD|             9170|          433|\n",
      "|America's Funnies...|LIFESTYLE|            38318|          422|\n",
      "|Law & Order: Spec...|LIFESTYLE|          1745480|          418|\n",
      "|        A Baby Story|LIFESTYLE|          2125244|          417|\n",
      "|             Bonanza|LIFESTYLE|            11688|          417|\n",
      "+--------------------+---------+-----------------+-------------+\n",
      "only showing top 20 rows\n",
      "\n"
     ]
    }
   ],
   "source": [
    "longRunningSeries.show()"
   ]
  },
  {
   "cell_type": "code",
   "execution_count": 35,
   "metadata": {},
   "outputs": [
    {
     "data": {
      "text/plain": [
       "program_df: org.apache.spark.sql.DataFrame = [PROGRAM_ID: string, SUBCATEGORY_ID: string ... 29 more fields]\n"
      ]
     },
     "execution_count": 35,
     "metadata": {},
     "output_type": "execute_result"
    }
   ],
   "source": [
    "var program_df = program_.withColumn(\"MONTH\",month(program.col(\"ORIGINAL_ADT\")))"
   ]
  },
  {
   "cell_type": "code",
   "execution_count": 36,
   "metadata": {},
   "outputs": [
    {
     "name": "stdout",
     "output_type": "stream",
     "text": [
      "root\n",
      " |-- PROGRAM_ID: string (nullable = true)\n",
      " |-- SUBCATEGORY_ID: string (nullable = true)\n",
      " |-- PROGRAM_SOURCE_ID: string (nullable = true)\n",
      " |-- PROGRAM_AIRING_TYPE_ID: string (nullable = true)\n",
      " |-- CATEGORY_ID: string (nullable = true)\n",
      " |-- CAPTION_ID: string (nullable = true)\n",
      " |-- PROGRAM_COLOR_TYPE_ID: string (nullable = true)\n",
      " |-- MASTER_TITLE: string (nullable = true)\n",
      " |-- RELEASE_YEAR: string (nullable = true)\n",
      " |-- EPISODE_TITLE: string (nullable = true)\n",
      " |-- EPISODE_NUMBER: string (nullable = true)\n",
      " |-- STEREO_ENABLED_YN: string (nullable = true)\n",
      " |-- STAR_RATING: string (nullable = true)\n",
      " |-- SERIES_YN: string (nullable = true)\n",
      " |-- RATING_ID_TV_US: string (nullable = true)\n",
      " |-- RATING_ID_MOVIE_US: string (nullable = true)\n",
      " |-- SERIES_MASTER_YN: string (nullable = true)\n",
      " |-- PARENT_PROGRAM_ID: string (nullable = true)\n",
      " |-- RUNTIME: string (nullable = true)\n",
      " |-- HDTV_YN: string (nullable = true)\n",
      " |-- BRACKET_TEXT: string (nullable = true)\n",
      " |-- PART_NUMBER: string (nullable = true)\n",
      " |-- PART_TOTAL: string (nullable = true)\n",
      " |-- ORIGINAL_ADT: string (nullable = true)\n",
      " |-- SUBTITLE: string (nullable = true)\n",
      " |-- EVENT_DATE: string (nullable = true)\n",
      " |-- TAG: string (nullable = true)\n",
      " |-- Cosmo_program_id: string (nullable = true)\n",
      " |-- link_region_id: string (nullable = true)\n",
      " |-- status_code: string (nullable = true)\n",
      " |-- MONTH: integer (nullable = true)\n",
      "\n"
     ]
    }
   ],
   "source": []
  },
  {
   "cell_type": "code",
   "execution_count": 64,
   "metadata": {},
   "outputs": [
    {
     "name": "stdout",
     "output_type": "stream",
     "text": [
      "+-----------+-------------+\n",
      "|MonthOfYear|PROGRAM_COUNT|\n",
      "+-----------+-------------+\n",
      "|    01-2015|          470|\n",
      "|    01-2016|          648|\n",
      "|    01-2017|         1890|\n",
      "|    01-2018|         1086|\n",
      "|    02-2015|          411|\n",
      "|    02-2016|          589|\n",
      "|    02-2017|         1773|\n",
      "|    02-2018|          939|\n",
      "|    03-2015|          417|\n",
      "|    03-2016|          699|\n",
      "|    03-2017|         1752|\n",
      "|    03-2018|         1289|\n",
      "|    04-2015|          486|\n",
      "|    04-2016|          676|\n",
      "|    04-2017|         1259|\n",
      "|    04-2018|         1157|\n",
      "|    05-2015|          454|\n",
      "|    05-2016|          629|\n",
      "|    05-2017|         1056|\n",
      "|    05-2018|         1214|\n",
      "+-----------+-------------+\n",
      "only showing top 20 rows\n",
      "\n"
     ]
    }
   ],
   "source": [
    "spark.sql(\"SELECT CONCAT(LPAD(MONTH,2,0),'-',YEAR) as MonthOfYear,COUNT(*) as PROGRAM_COUNT FROM  PRG WHERE CATEGORY_ID != 'NULL' AND YEAR >= 2015 AND YEAR <= 2018 GROUP BY CONCAT(LPAD(MONTH,2,0),'-',YEAR) ORDER BY CONCAT(LPAD(MONTH,2,0),'-',YEAR) asc\").show()"
   ]
  },
  {
   "cell_type": "code",
   "execution_count": 83,
   "metadata": {},
   "outputs": [
    {
     "name": "stdout",
     "output_type": "stream",
     "text": [
      "+----------------+----------------------+---------------------+---------------------------------+\n",
      "|Cosmo_program_id|PROGRAM_AIRING_TYPE_ID|MASTER_TITLE         |EPISODE_TITLE                    |\n",
      "+----------------+----------------------+---------------------+---------------------------------+\n",
      "|NULL            |NULL                  |Never the Twain      |Reading Between the Lines        |\n",
      "|NULL            |NULL                  |On the Buses         |The Football Match               |\n",
      "|NULL            |NULL                  |How It's Made        |Safes                            |\n",
      "|NULL            |NULL                  |My Parents Are Aliens|Aliens Go Home                   |\n",
      "|NULL            |NULL                  |Nestor Burma         |Nestor Burma et la belle de Paris|\n",
      "|NULL            |NULL                  |Two Fat Ladies       |Dinner                           |\n",
      "|NULL            |NULL                  |Secret Lives of Women|Surgeons                         |\n",
      "|NULL            |NULL                  |Kabouter Plop        |De klok van Plop                 |\n",
      "|NULL            |NULL                  |Sous le soleil       |Diagnostic : Jalousie            |\n",
      "|NULL            |NULL                  |ZingZillas           |Digeridoo Hullaballoo            |\n",
      "+----------------+----------------------+---------------------+---------------------------------+\n",
      "only showing top 10 rows\n",
      "\n",
      "2019-03-25 00:46:44 WARN  HeartbeatReceiver:66 - Removing executor driver with no recent heartbeats: 7210036 ms exceeds timeout 120000 ms\n",
      "2019-03-25 00:46:44 ERROR TaskSchedulerImpl:70 - Lost executor driver on localhost: Executor heartbeat timed out after 7210036 ms\n",
      "2019-03-25 00:46:44 WARN  SparkContext:66 - Killing executors is not supported by current scheduler.\n"
     ]
    }
   ],
   "source": [
    "spark.sql(\"SELECT Cosmo_program_id,PROGRAM_AIRING_TYPE_ID,MASTER_TITLE,EPISODE_TITLE FROM PRG WHERE CATEGORY_ID = 'NULL' and MASTER_TITLE != 'INVALID' AND (EPISODE_TITLE != 'NULL')\").show(10,false)"
   ]
  },
  {
   "cell_type": "code",
   "execution_count": null,
   "metadata": {},
   "outputs": [],
   "source": []
  },
  {
   "cell_type": "code",
   "execution_count": null,
   "metadata": {},
   "outputs": [],
   "source": []
  }
 ],
 "metadata": {
  "kernelspec": {
   "display_name": "spylon-kernel",
   "language": "scala",
   "name": "spylon-kernel"
  },
  "language_info": {
   "codemirror_mode": "text/x-scala",
   "file_extension": ".scala",
   "help_links": [
    {
     "text": "MetaKernel Magics",
     "url": "https://github.com/calysto/metakernel/blob/master/metakernel/magics/README.md"
    }
   ],
   "mimetype": "text/x-scala",
   "name": "scala",
   "pygments_lexer": "scala",
   "version": "0.4.1"
  }
 },
 "nbformat": 4,
 "nbformat_minor": 2
}
