{
 "cells": [
  {
   "cell_type": "code",
   "execution_count": 1,
   "metadata": {},
   "outputs": [
    {
     "data": {
      "text/plain": [
       "Intitializing Scala interpreter ..."
      ]
     },
     "metadata": {},
     "output_type": "display_data"
    },
    {
     "data": {
      "text/plain": [
       "Spark Web UI available at http://192.168.1.8:4041\n",
       "SparkContext available as 'sc' (version = 2.3.1, master = local[*], app id = local-1551958444361)\n",
       "SparkSession available as 'spark'\n"
      ]
     },
     "metadata": {},
     "output_type": "display_data"
    },
    {
     "name": "stdout",
     "output_type": "stream",
     "text": [
      "2019-03-07 17:04:09 WARN  SparkContext:66 - Using an existing SparkContext; some configuration may not take effect.\n"
     ]
    },
    {
     "data": {
      "text/plain": [
       "import org.apache.spark.sql.SparkSession\n",
       "import org.apache.spark.sql.types._\n",
       "spark: org.apache.spark.sql.SparkSession = org.apache.spark.sql.SparkSession@5dfabe81\n"
      ]
     },
     "execution_count": 1,
     "metadata": {},
     "output_type": "execute_result"
    }
   ],
   "source": [
    "import org.apache.spark.sql.SparkSession\n",
    "import org.apache.spark.sql.types._\n",
    "\n",
    "val spark = SparkSession.builder\n",
    "      .appName(\"dsg_prg\")\n",
    "      .master(\"local[*]\")\n",
    "      .config(\"spark.sql.sources.partitionOverwriteMode\",\"dynamic\")\n",
    "      .enableHiveSupport()\n",
    "      .getOrCreate()"
   ]
  },
  {
   "cell_type": "markdown",
   "metadata": {},
   "source": [
    "# CAMPAIGN DATA - 2 FILES for 6 months each"
   ]
  },
  {
   "cell_type": "code",
   "execution_count": 3,
   "metadata": {},
   "outputs": [
    {
     "data": {
      "text/plain": [
       "campaign_6months: org.apache.spark.sql.DataFrame = [CAMPAIGN_ID: string, PLATFORM: string ... 23 more fields]\n"
      ]
     },
     "execution_count": 3,
     "metadata": {},
     "output_type": "execute_result"
    }
   ],
   "source": [
    "val campaign_6months = spark.read.parquet(\"../Data/Campaign_6_Months/\")"
   ]
  },
  {
   "cell_type": "code",
   "execution_count": 4,
   "metadata": {},
   "outputs": [
    {
     "name": "stdout",
     "output_type": "stream",
     "text": [
      "+-----------+--------+-------------------+--------------------+---------------+--------------------+----------+---------+-------------------+----------+---------+-------------------+-------------------+--------------------+--------------------+--------------------+-------------------+-----+-------+---------------+-------+------------------+-----------+---------+---------+\n",
      "|CAMPAIGN_ID|PLATFORM|     EFFECTIVE_DATE|         DESCRIPTION|       CAMPAIGN|          ADVERTISER| FEED_TYPE|ATX_AD_ID|       EXPIRED_DATE|PROGRAM_ID|SOURCE_ID|   ORDER_START_DATE|     ORDER_END_DATE|           VOD_ASSET|               BRAND|CAMPAIGN_DESCRIPTION|AD_TYPE_DESCRIPTION|VODAd|VODType|goto_designator|icon_id|MASTER_DEAL_NUMBER|DEAL_NUMBER|TIME_ZONE|REGION_ID|\n",
      "+-----------+--------+-------------------+--------------------+---------------+--------------------+----------+---------+-------------------+----------+---------+-------------------+-------------------+--------------------+--------------------+--------------------+-------------------+-----+-------+---------------+-------+------------------+-----------+---------+---------+\n",
      "|      36348|  iGuide|2018-11-02 15:30:00|DirectVid - Direc...|     AddictHope|     InfoWork Direct|House Feed|    50774|2018-11-02 16:29:59|      null|     null|2018-10-01 10:30:00|2018-12-31 10:29:59|macrovision.com-R...|Addiction Hope an...|Addiction Hope an...|         Banner - B|  yes| Launch|        VODClip|     56|              null|  Q248242-0|       ET|     1288|\n",
      "|   15663655|  iGuide|2018-07-23 00:30:00|Remind - Standard...|SummerMoviesECP|Lifetime Cable Ne...|  Two Feed|    51664|2018-07-23 01:29:59|  11002240|     null|2018-06-10 10:30:00|2018-07-30 10:29:59|                null|Summer Movie Init...|Movie Initiative-...|         Banner - B|   no|   null|           null|   null|              null|  Q246572-3|       ET|     1516|\n",
      "|   15545473|  iGuide|2018-06-18 10:30:00|SiG - Standard i-...|LungCancerLegal|    Cedar Tree Media|House Feed|    45406|2018-06-18 11:29:59|      null|     null|2018-05-30 10:30:00|2018-07-16 10:29:59|                null|   Lung Cancer Legal|Cedar Tree Media-...|         Banner - B|   no|   null|           null|   null|              null|  Q247158-3|       ET|      634|\n",
      "|   15590806|  iGuide|2018-06-24 18:30:00|Remind - Standard...| TheAffairS4 MT|Showtime Networks...|  Two Feed|    51486|2018-06-24 19:29:59|    438786|     null|2018-06-17 10:30:00|2018-07-02 10:29:59|                null|          The Affair|  The Affair-6.17.18|         Banner - B|   no|   null|           null|   null|              null|  Q247109-2|       MT|     2921|\n",
      "|   15524216|  iGuide|2018-06-09 18:30:00|Remind - Standard...|      Boxing PT|Showtime Networks...|      Live|    51380|2018-06-09 19:29:59|    438906|     null|2018-06-09 10:30:00|2018-06-10 10:29:59|                null|              Boxing|       Boxing-6.9.18|         Banner - B|   no|   null|           null|   null|              null|  Q247110-2|     null|     2591|\n",
      "+-----------+--------+-------------------+--------------------+---------------+--------------------+----------+---------+-------------------+----------+---------+-------------------+-------------------+--------------------+--------------------+--------------------+-------------------+-----+-------+---------------+-------+------------------+-----------+---------+---------+\n",
      "only showing top 5 rows\n",
      "\n"
     ]
    }
   ],
   "source": [
    "campaign_6months.show(5)"
   ]
  },
  {
   "cell_type": "code",
   "execution_count": 5,
   "metadata": {},
   "outputs": [
    {
     "data": {
      "text/plain": [
       "res1: Long = 1282759\n"
      ]
     },
     "execution_count": 5,
     "metadata": {},
     "output_type": "execute_result"
    }
   ],
   "source": [
    "campaign_6months.count()"
   ]
  },
  {
   "cell_type": "code",
   "execution_count": 6,
   "metadata": {},
   "outputs": [
    {
     "data": {
      "text/plain": [
       "campaign_jan_jun: org.apache.spark.sql.DataFrame = [CAMPAIGN_ID: string, PLATFORM: string ... 23 more fields]\n"
      ]
     },
     "execution_count": 6,
     "metadata": {},
     "output_type": "execute_result"
    }
   ],
   "source": [
    "val campaign_jan_jun = spark.read.parquet(\"../Data/Campaign_jan_Jun/\")"
   ]
  },
  {
   "cell_type": "code",
   "execution_count": 8,
   "metadata": {},
   "outputs": [
    {
     "name": "stdout",
     "output_type": "stream",
     "text": [
      "+-----------+--------+-------------------+--------------------+--------------+--------------------+----------+---------+-------------------+----------+---------+-------------------+-------------------+--------------------+--------------------+--------------------+-------------------+-----+-------+---------------+-------+------------------+-----------+---------+---------+\n",
      "|CAMPAIGN_ID|PLATFORM|     EFFECTIVE_DATE|         DESCRIPTION|      CAMPAIGN|          ADVERTISER| FEED_TYPE|ATX_AD_ID|       EXPIRED_DATE|PROGRAM_ID|SOURCE_ID|   ORDER_START_DATE|     ORDER_END_DATE|           VOD_ASSET|               BRAND|CAMPAIGN_DESCRIPTION|AD_TYPE_DESCRIPTION|VODAd|VODType|goto_designator|icon_id|MASTER_DEAL_NUMBER|DEAL_NUMBER|TIME_ZONE|REGION_ID|\n",
      "+-----------+--------+-------------------+--------------------+--------------+--------------------+----------+---------+-------------------+----------+---------+-------------------+-------------------+--------------------+--------------------+--------------------+-------------------+-----+-------+---------------+-------+------------------+-----------+---------+---------+\n",
      "|   14975569|  iGuide|2018-01-02 22:30:00|Remind - Standard...| EllenGames MT|NBC Television Ne...|Three Feed|    50604|2018-01-02 23:29:59|  14688522|     null|2018-01-02 10:30:00|2018-01-03 10:29:59|                null|Ellens Game of Games|Ellen's Game of G...|         Banner - B|   no|   null|           null|   null|              null|  Q244298-0|       MT|      787|\n",
      "|   15437729|  iGuide|2018-05-05 15:30:00|Standard - Standa...|CharterUpgrade|           EDITORIAL|House Feed|    51137|2018-05-05 16:29:59|      null|    90750|2018-04-03 10:30:00|2018-05-23 10:29:59|                null|             Charter|Charter i-Guide R...|         Banner - B|   no|   null|           null|   null|              null|  Q246548-0|     null|     1000|\n",
      "|   15225664|  iGuide|2018-03-17 08:30:00|DirectVid - Direc...|For People VOD|ABC Television Ne...|House Feed|    50982|2018-03-17 09:29:59|      null|     null|2018-03-13 10:30:00|2018-03-21 10:29:59|abc.com-tass00000...|      For The People|For the People-3....|         Banner - B|  yes|   Info|        VODClip|     56|              null|  Q244614-5|     null|     1405|\n",
      "|   15431536|  iGuide|2018-04-30 22:30:00|Remind - Standard...|      DWTS ECP|ABC Television Ne...|Three Feed|    51241|2018-04-30 23:29:59|    230500|     null|2018-04-30 10:30:00|2018-05-01 10:29:59|                null|Dancing with the ...|DWTS Spinoff-4.30.18|         Banner - B|   no|   null|           null|   null|              null|  Q246738-2|       ET|     2945|\n",
      "|   15249711|  iGuide|2018-03-17 07:30:00|DirectVid - Direc...|     RISE INFO|NBC Television Ne...|House Feed|    50997|2018-03-17 08:29:59|      null|     null|2018-03-14 10:30:00|2018-03-21 10:29:59|nbc.com-NBCU03680...|                Rise|        Rise-3.14.18|         Banner - B|  yes|   Info|        VODClip|     56|              null|  Q244613-0|     null|     2697|\n",
      "+-----------+--------+-------------------+--------------------+--------------+--------------------+----------+---------+-------------------+----------+---------+-------------------+-------------------+--------------------+--------------------+--------------------+-------------------+-----+-------+---------------+-------+------------------+-----------+---------+---------+\n",
      "only showing top 5 rows\n",
      "\n"
     ]
    }
   ],
   "source": [
    "campaign_jan_jun.show(5)"
   ]
  },
  {
   "cell_type": "code",
   "execution_count": 9,
   "metadata": {},
   "outputs": [
    {
     "data": {
      "text/plain": [
       "res4: Long = 1012620\n"
      ]
     },
     "execution_count": 9,
     "metadata": {},
     "output_type": "execute_result"
    }
   ],
   "source": [
    "campaign_jan_jun.count()"
   ]
  },
  {
   "cell_type": "code",
   "execution_count": 11,
   "metadata": {},
   "outputs": [
    {
     "data": {
      "text/plain": [
       "campaign: org.apache.spark.sql.Dataset[org.apache.spark.sql.Row] = [CAMPAIGN_ID: string, PLATFORM: string ... 23 more fields]\n"
      ]
     },
     "execution_count": 11,
     "metadata": {},
     "output_type": "execute_result"
    }
   ],
   "source": [
    "val campaign = campaign_6months.union(campaign_jan_jun)"
   ]
  },
  {
   "cell_type": "code",
   "execution_count": 12,
   "metadata": {},
   "outputs": [
    {
     "data": {
      "text/plain": [
       "res5: Long = 2295379\n"
      ]
     },
     "execution_count": 12,
     "metadata": {},
     "output_type": "execute_result"
    }
   ],
   "source": [
    "campaign.count()"
   ]
  },
  {
   "cell_type": "code",
   "execution_count": 13,
   "metadata": {},
   "outputs": [
    {
     "name": "stdout",
     "output_type": "stream",
     "text": [
      "2019-03-07 17:07:18 WARN  Utils:66 - Truncated the string representation of a plan since it was too large. This behavior can be adjusted by setting 'spark.debug.maxToStringFields' in SparkEnv.conf.\n"
     ]
    },
    {
     "data": {
      "text/plain": [
       "res6: Long = 2295379\n"
      ]
     },
     "execution_count": 13,
     "metadata": {},
     "output_type": "execute_result"
    }
   ],
   "source": [
    "campaign.distinct.count()"
   ]
  },
  {
   "cell_type": "markdown",
   "metadata": {},
   "source": [
    "####  No Duplicates- Combine one year data to new parquet\n",
    "\n"
   ]
  },
  {
   "cell_type": "code",
   "execution_count": 15,
   "metadata": {},
   "outputs": [],
   "source": [
    "campaign.repartition(1).write.parquet(\"../Data/Campaign/\")"
   ]
  },
  {
   "cell_type": "markdown",
   "metadata": {},
   "source": [
    "# LOOKUP  SOURCE"
   ]
  },
  {
   "cell_type": "code",
   "execution_count": 16,
   "metadata": {},
   "outputs": [
    {
     "data": {
      "text/plain": [
       "source: org.apache.spark.sql.DataFrame = [SK_SYSTEM_ID: int, SK_PROVIDER_ID: int ... 6 more fields]\n"
      ]
     },
     "execution_count": 16,
     "metadata": {},
     "output_type": "execute_result"
    }
   ],
   "source": [
    "val source = spark.read.parquet(\"../Data/LOOKUP_SOURCE/\")"
   ]
  },
  {
   "cell_type": "code",
   "execution_count": 17,
   "metadata": {},
   "outputs": [
    {
     "data": {
      "text/plain": [
       "res9: Long = 0\n"
      ]
     },
     "execution_count": 17,
     "metadata": {},
     "output_type": "execute_result"
    }
   ],
   "source": [
    "source.count()"
   ]
  },
  {
   "cell_type": "code",
   "execution_count": 18,
   "metadata": {},
   "outputs": [
    {
     "name": "stdout",
     "output_type": "stream",
     "text": [
      "+------------+--------------+---------+--------+-------------+-----------+-------+----+\n",
      "|SK_SYSTEM_ID|SK_PROVIDER_ID|SOURCE_ID|SRC_NAME|SRC_LONG_NAME|SOURCE_TYPE|NETWORK|HDTV|\n",
      "+------------+--------------+---------+--------+-------------+-----------+-------+----+\n",
      "+------------+--------------+---------+--------+-------------+-----------+-------+----+\n",
      "\n"
     ]
    }
   ],
   "source": [
    "source.show()"
   ]
  },
  {
   "cell_type": "markdown",
   "metadata": {},
   "source": [
    "## This data seems similar to channel name we can use this instead ? Checked the data in tivo system there are no rows"
   ]
  },
  {
   "cell_type": "markdown",
   "metadata": {},
   "source": [
    "# LOOKUP CHANNEL NAME"
   ]
  },
  {
   "cell_type": "code",
   "execution_count": 19,
   "metadata": {},
   "outputs": [
    {
     "data": {
      "text/plain": [
       "channel: org.apache.spark.sql.DataFrame = [SK_PROVIDER_ID: int, SOURCE_ID: int ... 5 more fields]\n"
      ]
     },
     "execution_count": 19,
     "metadata": {},
     "output_type": "execute_result"
    }
   ],
   "source": [
    "val channel = spark.read.parquet(\"../Data/MVSN_LOOKUP_CHANNEL_NAME/\")"
   ]
  },
  {
   "cell_type": "code",
   "execution_count": 20,
   "metadata": {},
   "outputs": [
    {
     "data": {
      "text/plain": [
       "res11: Long = 135005\n"
      ]
     },
     "execution_count": 20,
     "metadata": {},
     "output_type": "execute_result"
    }
   ],
   "source": [
    "channel.count()"
   ]
  },
  {
   "cell_type": "code",
   "execution_count": 21,
   "metadata": {},
   "outputs": [
    {
     "name": "stdout",
     "output_type": "stream",
     "text": [
      "+--------------+---------+--------+-------------+-----------+-------+----+\n",
      "|SK_PROVIDER_ID|SOURCE_ID|SRC_NAME|SRC_LONG_NAME|SOURCE_TYPE|NETWORK|HDTV|\n",
      "+--------------+---------+--------+-------------+-----------+-------+----+\n",
      "|             1|        0|    NULL|         null|       null|   NULL|null|\n",
      "|             1|        1|    NULL|         NULL|       null|   NULL|null|\n",
      "|             1|        2|    NULL|         NULL|       null|   NULL|null|\n",
      "|             1|       88|    NULL|         NULL|       null|   NULL|null|\n",
      "|             1|       99|    NULL|         NULL|       null|   NULL|null|\n",
      "+--------------+---------+--------+-------------+-----------+-------+----+\n",
      "only showing top 5 rows\n",
      "\n"
     ]
    }
   ],
   "source": [
    "channel.show(5)"
   ]
  },
  {
   "cell_type": "markdown",
   "metadata": {},
   "source": [
    "# LOOKUP CAMPAIGN PROGRAM"
   ]
  },
  {
   "cell_type": "code",
   "execution_count": 22,
   "metadata": {},
   "outputs": [
    {
     "data": {
      "text/plain": [
       "campaign_program: org.apache.spark.sql.DataFrame = [PROGRAM_ID: int, SUBCATEGORY_ID: int ... 29 more fields]\n"
      ]
     },
     "execution_count": 22,
     "metadata": {},
     "output_type": "execute_result"
    }
   ],
   "source": [
    "val campaign_program = spark.read.parquet(\"../Data/CAMPAIGN_PROGRAM/\")"
   ]
  },
  {
   "cell_type": "code",
   "execution_count": 23,
   "metadata": {},
   "outputs": [
    {
     "data": {
      "text/plain": [
       "res13: Long = 757\n"
      ]
     },
     "execution_count": 23,
     "metadata": {},
     "output_type": "execute_result"
    }
   ],
   "source": [
    "campaign_program.count()"
   ]
  },
  {
   "cell_type": "code",
   "execution_count": 24,
   "metadata": {},
   "outputs": [
    {
     "name": "stdout",
     "output_type": "stream",
     "text": [
      "+----------+--------------+-----------------+----------------------+-----------+----------+---------------------+--------------------+------------+---------------+--------------+-----------------+-----------+---------+---------------+------------------+----------------+-----------------+-------+-------+------------+-----------+----------+-------------------+--------+-------------------+---------------+----------------+--------------+-----------+--------------------+\n",
      "|PROGRAM_ID|SUBCATEGORY_ID|PROGRAM_SOURCE_ID|PROGRAM_AIRING_TYPE_ID|CATEGORY_ID|CAPTION_ID|PROGRAM_COLOR_TYPE_ID|        MASTER_TITLE|RELEASE_YEAR|  EPISODE_TITLE|EPISODE_NUMBER|STEREO_ENABLED_YN|STAR_RATING|SERIES_YN|RATING_ID_TV_US|RATING_ID_MOVIE_US|SERIES_MASTER_YN|PARENT_PROGRAM_ID|RUNTIME|HDTV_YN|BRACKET_TEXT|PART_NUMBER|PART_TOTAL|       ORIGINAL_ADT|SUBTITLE|         EVENT_DATE|            TAG|Cosmo_program_id|link_region_id|status_code|     update_datetime|\n",
      "+----------+--------------+-----------------+----------------------+-----------+----------+---------------------+--------------------+------------+---------------+--------------+-----------------+-----------+---------+---------------+------------------+----------------+-----------------+-------+-------+------------+-----------+----------+-------------------+--------+-------------------+---------------+----------------+--------------+-----------+--------------------+\n",
      "|  11552955|            16|             2022|                  null|          5|         1|                    1|Kevin (Probably) ...|        2017|          Pilot|           101|                Y|       null|        Y|             39|              null|               N|         11552941|   3600|      N|        null|       null|      null|2017-10-03 05:30:00|    null|               null|Series Premiere|        32328514|             3|          2|2018-02-07 05:13:...|\n",
      "|  14758661|            13|             1209|                  null|          5|         1|                    1|          This Is Us|        2018|The Fifth Wheel|          null|                Y|       null|        Y|              9|              null|               N|          8297241|   3660|      N|        null|       null|      null|2018-01-09 05:30:00|    null|2018-01-10 02:30:00|           null|        34564119|             3|          2|2018-02-07 05:13:...|\n",
      "|  13784182|            16|             2022|                  null|          5|         1|                    1|    Once Upon a Time|        2017|A Pirate's Life|           702|                Y|       null|        Y|             27|              null|               N|          3384459|   3660|      N|        null|       null|      null|2017-10-13 05:30:00|    null|2017-10-14 01:30:00|           null|        33882561|             3|          2|2018-02-07 05:13:...|\n",
      "|   4016310|            12|              420|                  null|          1|         1|                    1|                 Elf|        2003|           null|          null|                Y|          3|        N|              9|                 4|               N|             null|   5820|      N|        null|       null|      null|               null|    null|2005-05-22 02:30:00|           null|            null|             3|          1|2018-02-07 05:13:...|\n",
      "|  14411105|            16|            12535|                  null|          1|         1|                    1|The Simone Biles ...|        2018|           null|          null|                Y|       null|        N|              9|                 2|               N|             null|   7320|      N|        null|       null|      null|2018-02-03 05:30:00|    null|2018-02-04 01:30:00|           null|        34318353|             3|          1|2018-02-07 05:13:...|\n",
      "+----------+--------------+-----------------+----------------------+-----------+----------+---------------------+--------------------+------------+---------------+--------------+-----------------+-----------+---------+---------------+------------------+----------------+-----------------+-------+-------+------------+-----------+----------+-------------------+--------+-------------------+---------------+----------------+--------------+-----------+--------------------+\n",
      "only showing top 5 rows\n",
      "\n"
     ]
    }
   ],
   "source": [
    "campaign_program.show(5)"
   ]
  },
  {
   "cell_type": "markdown",
   "metadata": {},
   "source": [
    "# PLT POP HISTORY AND SYS POP HISTORY"
   ]
  },
  {
   "cell_type": "code",
   "execution_count": 25,
   "metadata": {},
   "outputs": [
    {
     "data": {
      "text/plain": [
       "pltPopHistory: org.apache.spark.sql.DataFrame = [SK_PLATFORM_ID: int, PLATFORM: string ... 3 more fields]\n"
      ]
     },
     "execution_count": 25,
     "metadata": {},
     "output_type": "execute_result"
    }
   ],
   "source": [
    "val pltPopHistory = spark.read.parquet(\"../Data/mvsn_DM_PLATFORM_POPULATION_HISTORY/\")"
   ]
  },
  {
   "cell_type": "code",
   "execution_count": 26,
   "metadata": {},
   "outputs": [
    {
     "data": {
      "text/plain": [
       "res15: Long = 17\n"
      ]
     },
     "execution_count": 26,
     "metadata": {},
     "output_type": "execute_result"
    }
   ],
   "source": [
    "pltPopHistory.count()"
   ]
  },
  {
   "cell_type": "code",
   "execution_count": 30,
   "metadata": {},
   "outputs": [
    {
     "name": "stdout",
     "output_type": "stream",
     "text": [
      "+--------------+--------+----------+--------+--------+\n",
      "|SK_PLATFORM_ID|PLATFORM|POPULATION|  S_DATE|  E_DATE|\n",
      "+--------------+--------+----------+--------+--------+\n",
      "|             1|  iGuide|   6856852|20160203|20160529|\n",
      "|             1|  iGuide|   6804920|20160530|20160731|\n",
      "|             1|  iGuide|   6793874|20160801|20161127|\n",
      "|             1|  iGuide|   6150299|20181231|20500101|\n",
      "|             1|  iGuide|   6887422|20161128|20170226|\n",
      "|             1|  iGuide|   6887422|20170227|20170625|\n",
      "|             1|  iGuide|   6760975|20170626|20170730|\n",
      "|             1|  iGuide|   6776983|20170731|20171029|\n",
      "|             1|  iGuide|   6663216|20171030|20171230|\n",
      "|             1|  iGuide|   6580169|20180101|20180325|\n",
      "|             1|  iGuide|   6351092|20180326|20180527|\n",
      "|             1|  iGuide|   6297778|20180528|20180729|\n",
      "|             1|  iGuide|   6245229|20180730|20180930|\n",
      "|             1|  iGuide|   6157327|20181001|20181028|\n",
      "|             1|  iGuide|   6200051|20181029|20181125|\n",
      "|             1|  iGuide|   6165919|20181126|20181230|\n",
      "|             1|  iGuide|   7562357|20000101|20160202|\n",
      "+--------------+--------+----------+--------+--------+\n",
      "\n"
     ]
    }
   ],
   "source": [
    "pltPopHistory.show()"
   ]
  },
  {
   "cell_type": "code",
   "execution_count": 28,
   "metadata": {},
   "outputs": [
    {
     "data": {
      "text/plain": [
       "sysPopHistory: org.apache.spark.sql.DataFrame = [SK_SYSTEM_ID: int, SYSTEM: string ... 5 more fields]\n"
      ]
     },
     "execution_count": 28,
     "metadata": {},
     "output_type": "execute_result"
    }
   ],
   "source": [
    "val sysPopHistory = spark.read.parquet(\"../Data/mvsn_DM_SYSTEM_POPULATION_HISTORY/\")"
   ]
  },
  {
   "cell_type": "code",
   "execution_count": 29,
   "metadata": {},
   "outputs": [
    {
     "data": {
      "text/plain": [
       "res17: Long = 24\n"
      ]
     },
     "execution_count": 29,
     "metadata": {},
     "output_type": "execute_result"
    }
   ],
   "source": [
    "sysPopHistory.count()"
   ]
  },
  {
   "cell_type": "code",
   "execution_count": 31,
   "metadata": {},
   "outputs": [
    {
     "name": "stdout",
     "output_type": "stream",
     "text": [
      "+------------+-----------+--------------+----------+---------------+--------+--------+\n",
      "|SK_SYSTEM_ID|     SYSTEM|SK_PLATFORM_ID|POPULATION|HOUSEHOLD_RATIO|  S_DATE|  E_DATE|\n",
      "+------------+-----------+--------------+----------+---------------+--------+--------+\n",
      "|          40| Pittsburgh|             1|   75558.0|            2.5|20181231|20500101|\n",
      "|          40| Pittsburgh|             1|  127797.0|            2.5|20170130|20170226|\n",
      "|          41|Sioux Falls|             1|   97332.0|            2.5|20181231|20500101|\n",
      "|          40| Pittsburgh|             1|  125605.0|            2.5|20170227|20170625|\n",
      "|          40| Pittsburgh|             1|  107585.0|            2.5|20170626|20170730|\n",
      "|          41|Sioux Falls|             1|  133147.0|            2.5|20170626|20170730|\n",
      "|          40| Pittsburgh|             1|  105954.0|            2.5|20170731|20171029|\n",
      "|          41|Sioux Falls|             1|  133147.0|            2.5|20170731|20171029|\n",
      "|          40| Pittsburgh|             1|  101222.0|            2.5|20171030|20171230|\n",
      "|          41|Sioux Falls|             1|  126170.0|            2.5|20171030|20171230|\n",
      "|          40| Pittsburgh|             1|   98577.0|            2.5|20180101|20180325|\n",
      "|          41|Sioux Falls|             1|  118643.0|            2.5|20180101|20180325|\n",
      "|          40| Pittsburgh|             1|   83132.0|            2.5|20180326|20180527|\n",
      "|          41|Sioux Falls|             1|  115125.0|            2.5|20180326|20180527|\n",
      "|          40| Pittsburgh|             1|   84262.0|            2.5|20180528|20180729|\n",
      "|          41|Sioux Falls|             1|  109017.0|            2.5|20180528|20180729|\n",
      "|          40| Pittsburgh|             1|   83048.0|            2.5|20180730|20180930|\n",
      "|          41|Sioux Falls|             1|  106198.0|            2.5|20180730|20180930|\n",
      "|          40| Pittsburgh|             1|   82178.0|            2.5|20181001|20181028|\n",
      "|          41|Sioux Falls|             1|  102535.0|            2.5|20181001|20181028|\n",
      "+------------+-----------+--------------+----------+---------------+--------+--------+\n",
      "only showing top 20 rows\n",
      "\n"
     ]
    }
   ],
   "source": [
    "sysPopHistory.show()"
   ]
  },
  {
   "cell_type": "code",
   "execution_count": null,
   "metadata": {},
   "outputs": [],
   "source": []
  }
 ],
 "metadata": {
  "kernelspec": {
   "display_name": "spylon-kernel",
   "language": "scala",
   "name": "spylon-kernel"
  },
  "language_info": {
   "codemirror_mode": "text/x-scala",
   "file_extension": ".scala",
   "help_links": [
    {
     "text": "MetaKernel Magics",
     "url": "https://github.com/calysto/metakernel/blob/master/metakernel/magics/README.md"
    }
   ],
   "mimetype": "text/x-scala",
   "name": "scala",
   "pygments_lexer": "scala",
   "version": "0.4.1"
  }
 },
 "nbformat": 4,
 "nbformat_minor": 2
}
